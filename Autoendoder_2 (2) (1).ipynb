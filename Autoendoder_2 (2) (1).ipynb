{
 "cells": [
  {
   "cell_type": "markdown",
   "metadata": {
    "id": "VB9pbERmm8IZ"
   },
   "source": [
    "\n",
    "# Simple AutoEncoders with Image Data\n",
    "\n",
    "Here is a simple autoencoder with just the dense layers."
   ]
  },
  {
   "cell_type": "markdown",
   "metadata": {
    "id": "LlxN-eb5m8Ia"
   },
   "source": [
    "Load the data and import the libraries."
   ]
  },
  {
   "cell_type": "code",
   "execution_count": 39,
   "metadata": {
    "id": "MGqNWU6Ym8Ia"
   },
   "outputs": [],
   "source": [
    "#\n",
    "# Import relevant Libraries\n",
    "#\n",
    "import pandas as pd\n",
    "import numpy as np\n",
    "import matplotlib.pyplot as plt\n",
    "import tensorflow as tf\n",
    "from tensorflow import keras"
   ]
  },
  {
   "cell_type": "code",
   "execution_count": 40,
   "metadata": {
    "id": "db4OX9Bdm8Ib"
   },
   "outputs": [
    {
     "name": "stdout",
     "output_type": "stream",
     "text": [
      "2.14.0\n"
     ]
    }
   ],
   "source": [
    "print (tf.__version__)\n",
    "from keras.layers import Input,Dense\n",
    "from keras.models import Model\n",
    "from keras.datasets import mnist\n",
    "# Load MNIST data and store it in variables x_train, x_test. Note -  we do not need labels as it's autoencoder.\n",
    "(x_train,_),(x_test,_)=mnist.load_data()"
   ]
  },
  {
   "cell_type": "code",
   "execution_count": 41,
   "metadata": {
    "colab": {
     "base_uri": "https://localhost:8080/",
     "height": 129
    },
    "id": "Y9VG7JbKm8Ic",
    "outputId": "d416dcff-0379-429e-ccaa-4817b49adfe2"
   },
   "outputs": [
    {
     "data": {
      "image/png": "[encoded data removed]",
      "text/plain": [
       "<Figure size 2000x400 with 10 Axes>"
      ]
     },
     "metadata": {},
     "output_type": "display_data"
    }
   ],
   "source": [
    "# Plot a few data points\n",
    "%matplotlib inline\n",
    "\n",
    "n = 10  # Number of records that will display\n",
    "plt.figure(figsize=(20, 4))\n",
    "for i in range(n):\n",
    "    # display original\n",
    "    ax = plt.subplot(2, n, i + 1)\n",
    "    plt.imshow(x_test[i].reshape(28, 28))\n",
    "    plt.gray()\n",
    "    ax.get_xaxis().set_visible(False)\n",
    "    ax.get_yaxis().set_visible(False)\n",
    "\n",
    "plt.show()"
   ]
  },
  {
   "cell_type": "code",
   "execution_count": 42,
   "metadata": {
    "id": "l7J4pLFUm8Ic"
   },
   "outputs": [],
   "source": [
    "# Normalize train data - Divide by 255\n",
    "x_train=x_train/255.0\n",
    "# Normalize test data - Divide by 255\n",
    "x_test=x_test/255.0"
   ]
  },
  {
   "cell_type": "markdown",
   "metadata": {
    "id": "iN3Dtyymm8Ic"
   },
   "source": [
    "## Basic AutoEncoder\n",
    "\n",
    "Build a basic symmetric encoder-decoder network that recreates the image.  This network could be used in dimensionaliry reduction or feature learning. "
   ]
  },
  {
   "cell_type": "code",
   "execution_count": 43,
   "metadata": {
    "id": "sZ0Haczem8Id"
   },
   "outputs": [],
   "source": [
    "from tensorflow.keras.models import Sequential\n",
    "from tensorflow.keras.layers import Dense,Flatten\n",
    "encoder = Sequential()\n",
    "encoder.add(Flatten(input_shape=[28,28]))\n",
    "encoder.add(Dense(360, activation='relu', input_shape=(x_train.shape[1],)))\n",
    "encoder.add(Dense(300,activation='relu'))\n",
    "encoder.add(Dense(120,activation='relu'))\n",
    "encoder.add(Dense(50,activation='relu'))\n",
    "encoder.add(Dense(50,activation='relu'))\n",
    "#\n",
    "# Add as many hidden layers in the encoder network of your choise\n",
    "#\n",
    "#\n",
    "\n",
    "# The last TWO layers of the encoder and decoder must be matched (see the following decoder cell.\n",
    "#"
   ]
  },
  {
   "cell_type": "code",
   "execution_count": 44,
   "metadata": {},
   "outputs": [
    {
     "name": "stdout",
     "output_type": "stream",
     "text": [
      "Model: \"sequential_10\"\n",
      "_________________________________________________________________\n",
      " Layer (type)                Output Shape              Param #   \n",
      "=================================================================\n",
      " flatten_4 (Flatten)         (None, 784)               0         \n",
      "                                                                 \n",
      " dense_27 (Dense)            (None, 360)               282600    \n",
      "                                                                 \n",
      " dense_28 (Dense)            (None, 300)               108300    \n",
      "                                                                 \n",
      " dense_29 (Dense)            (None, 120)               36120     \n",
      "                                                                 \n",
      " dense_30 (Dense)            (None, 50)                6050      \n",
      "                                                                 \n",
      " dense_31 (Dense)            (None, 50)                2550      \n",
      "                                                                 \n",
      "=================================================================\n",
      "Total params: 435620 (1.66 MB)\n",
      "Trainable params: 435620 (1.66 MB)\n",
      "Non-trainable params: 0 (0.00 Byte)\n",
      "_________________________________________________________________\n",
      "None\n"
     ]
    }
   ],
   "source": [
    "print(encoder.summary())"
   ]
  },
  {
   "cell_type": "code",
   "execution_count": 7,
   "metadata": {
    "id": "bWkuLDpjm8Id"
   },
   "outputs": [],
   "source": [
    "decoder = Sequential()\n",
    "decoder.add(Dense(50,input_shape=[25],activation='relu'))\n",
    "\n",
    "#\n",
    "# Add as many layers in the decoder as you want. Reember - Encoder and decoder need to be symmetric.\n",
    "#\n",
    "decoder.add(Dense(120,activation='relu'))\n",
    "decoder.add(Dense(300,activation='relu'))\n",
    "decoder.add(Dense(360,activation='relu'))\n",
    "\n",
    "decoder.add(Dense(28 * 28, activation=\"sigmoid\"))\n",
    "decoder.add(Reshape([28, 28]))"
   ]
  },
  {
   "cell_type": "code",
   "execution_count": 8,
   "metadata": {},
   "outputs": [
    {
     "name": "stdout",
     "output_type": "stream",
     "text": [
      "Model: \"sequential_1\"\n",
      "_________________________________________________________________\n",
      " Layer (type)                Output Shape              Param #   \n",
      "=================================================================\n",
      " dense_5 (Dense)             (None, 50)                1300      \n",
      "                                                                 \n",
      " dense_6 (Dense)             (None, 120)               6120      \n",
      "                                                                 \n",
      " dense_7 (Dense)             (None, 300)               36300     \n",
      "                                                                 \n",
      " dense_8 (Dense)             (None, 360)               108360    \n",
      "                                                                 \n",
      " dense_9 (Dense)             (None, 784)               283024    \n",
      "                                                                 \n",
      " reshape (Reshape)           (None, 28, 28)            0         \n",
      "                                                                 \n",
      "=================================================================\n",
      "Total params: 435104 (1.66 MB)\n",
      "Trainable params: 435104 (1.66 MB)\n",
      "Non-trainable params: 0 (0.00 Byte)\n",
      "_________________________________________________________________\n",
      "None\n"
     ]
    }
   ],
   "source": [
    "# print the decoder model\n",
    "print(decoder.summary())"
   ]
  },
  {
   "cell_type": "code",
   "execution_count": null,
   "metadata": {},
   "outputs": [],
   "source": []
  },
  {
   "cell_type": "code",
   "execution_count": 9,
   "metadata": {
    "id": "Iic4UbbXm8Id"
   },
   "outputs": [],
   "source": [
    "autoencoder = Sequential([encoder, decoder]) # Combine encoder and decoder together."
   ]
  },
  {
   "cell_type": "code",
   "execution_count": 10,
   "metadata": {},
   "outputs": [
    {
     "name": "stdout",
     "output_type": "stream",
     "text": [
      "Model: \"sequential_2\"\n",
      "_________________________________________________________________\n",
      " Layer (type)                Output Shape              Param #   \n",
      "=================================================================\n",
      " sequential (Sequential)     (None, 25)                434345    \n",
      "                                                                 \n",
      " sequential_1 (Sequential)   (None, 28, 28)            435104    \n",
      "                                                                 \n",
      "=================================================================\n",
      "Total params: 869449 (3.32 MB)\n",
      "Trainable params: 869449 (3.32 MB)\n",
      "Non-trainable params: 0 (0.00 Byte)\n",
      "_________________________________________________________________\n"
     ]
    }
   ],
   "source": [
    "# print the autoencoder model\n",
    "autoencoder.summary()"
   ]
  },
  {
   "cell_type": "code",
   "execution_count": 15,
   "metadata": {
    "id": "Vps8w9u-m8Id"
   },
   "outputs": [],
   "source": [
    "# Compile the autoencoder. Use binary_crossenropy as loss and metrics as accuracy.\n",
    "autoencoder.compile(optimizer='adam',\n",
    "              loss='binary_crossentropy',\n",
    "              metrics=['accuracy'])"
   ]
  },
  {
   "cell_type": "code",
   "execution_count": 16,
   "metadata": {},
   "outputs": [
    {
     "name": "stdout",
     "output_type": "stream",
     "text": [
      "Epoch 1/20\n",
      "1875/1875 [==============================] - 18s 9ms/step - loss: 0.1150 - accuracy: 0.2527 - val_loss: 0.1104 - val_accuracy: 0.2515\n",
      "Epoch 2/20\n",
      "1875/1875 [==============================] - 17s 9ms/step - loss: 0.1062 - accuracy: 0.2677 - val_loss: 0.1032 - val_accuracy: 0.2714\n",
      "Epoch 3/20\n",
      "1875/1875 [==============================] - 17s 9ms/step - loss: 0.1021 - accuracy: 0.2761 - val_loss: 0.1009 - val_accuracy: 0.2782\n",
      "Epoch 4/20\n",
      "1875/1875 [==============================] - 17s 9ms/step - loss: 0.0999 - accuracy: 0.2823 - val_loss: 0.0992 - val_accuracy: 0.2797\n",
      "Epoch 5/20\n",
      "1875/1875 [==============================] - 17s 9ms/step - loss: 0.0982 - accuracy: 0.2863 - val_loss: 0.0978 - val_accuracy: 0.2745\n",
      "Epoch 6/20\n",
      "1875/1875 [==============================] - 17s 9ms/step - loss: 0.0968 - accuracy: 0.2891 - val_loss: 0.0971 - val_accuracy: 0.2843\n",
      "Epoch 7/20\n",
      "1875/1875 [==============================] - 17s 9ms/step - loss: 0.0955 - accuracy: 0.2921 - val_loss: 0.0965 - val_accuracy: 0.2786\n",
      "Epoch 8/20\n",
      "1875/1875 [==============================] - 17s 9ms/step - loss: 0.0945 - accuracy: 0.2944 - val_loss: 0.0952 - val_accuracy: 0.2887\n",
      "Epoch 9/20\n",
      "1875/1875 [==============================] - 17s 9ms/step - loss: 0.0936 - accuracy: 0.2960 - val_loss: 0.0948 - val_accuracy: 0.2839\n",
      "Epoch 10/20\n",
      "1875/1875 [==============================] - 17s 9ms/step - loss: 0.0927 - accuracy: 0.2989 - val_loss: 0.0939 - val_accuracy: 0.2939\n",
      "Epoch 11/20\n",
      "1875/1875 [==============================] - 17s 9ms/step - loss: 0.0919 - accuracy: 0.3009 - val_loss: 0.0930 - val_accuracy: 0.2967\n",
      "Epoch 12/20\n",
      "1875/1875 [==============================] - 18s 9ms/step - loss: 0.0912 - accuracy: 0.3023 - val_loss: 0.0923 - val_accuracy: 0.2981\n",
      "Epoch 13/20\n",
      "1875/1875 [==============================] - 17s 9ms/step - loss: 0.0905 - accuracy: 0.3033 - val_loss: 0.0911 - val_accuracy: 0.3034\n",
      "Epoch 14/20\n",
      "1875/1875 [==============================] - 17s 9ms/step - loss: 0.0899 - accuracy: 0.3049 - val_loss: 0.0908 - val_accuracy: 0.2967\n",
      "Epoch 15/20\n",
      "1875/1875 [==============================] - 17s 9ms/step - loss: 0.0894 - accuracy: 0.3058 - val_loss: 0.0908 - val_accuracy: 0.3015\n",
      "Epoch 16/20\n",
      "1875/1875 [==============================] - 18s 10ms/step - loss: 0.0890 - accuracy: 0.3059 - val_loss: 0.0902 - val_accuracy: 0.2978\n",
      "Epoch 17/20\n",
      "1875/1875 [==============================] - 17s 9ms/step - loss: 0.0885 - accuracy: 0.3078 - val_loss: 0.0892 - val_accuracy: 0.2974\n",
      "Epoch 18/20\n",
      "1875/1875 [==============================] - 17s 9ms/step - loss: 0.0882 - accuracy: 0.3092 - val_loss: 0.0889 - val_accuracy: 0.3027\n",
      "Epoch 19/20\n",
      "1875/1875 [==============================] - 16s 9ms/step - loss: 0.0877 - accuracy: 0.3098 - val_loss: 0.0889 - val_accuracy: 0.3044\n",
      "Epoch 20/20\n",
      "1875/1875 [==============================] - 17s 9ms/step - loss: 0.0874 - accuracy: 0.3103 - val_loss: 0.0884 - val_accuracy: 0.3045\n"
     ]
    },
    {
     "data": {
      "text/plain": [
       "<keras.src.callbacks.History at 0x1575592e680>"
      ]
     },
     "execution_count": 16,
     "metadata": {},
     "output_type": "execute_result"
    }
   ],
   "source": [
    "# Fit the autoencoder. Note - Input and output are same. x_train is your train data, x_test is your validation data.\n",
    "#x_train.shape,x_test.shape\n",
    "autoencoder.fit(x_train, x_train, epochs=20, validation_data=[x_test, x_test])"
   ]
  },
  {
   "cell_type": "code",
   "execution_count": 37,
   "metadata": {
    "colab": {
     "base_uri": "https://localhost:8080/",
     "height": 266
    },
    "id": "8qa1dlv0m8Ie",
    "outputId": "496b16b2-d0dc-41d0-866d-f72db6611aad"
   },
   "outputs": [
    {
     "name": "stdout",
     "output_type": "stream",
     "text": [
      "313/313 [==============================] - 2s 7ms/step\n"
     ]
    },
    {
     "data": {
      "image/png": "[encoded data removed]",
      "text/plain": [
       "<Figure size 2000x400 with 20 Axes>"
      ]
     },
     "metadata": {},
     "output_type": "display_data"
    }
   ],
   "source": [
    "# Check a few sample images.\n",
    "decoded_imgs = autoencoder.predict(x_test)\n",
    "\n",
    "n = 10\n",
    "\n",
    "plt.figure(figsize=(20, 4))\n",
    "\n",
    "for i in range(n):\n",
    "    ax = plt.subplot(2, n, i + 1)\n",
    "    plt.imshow(x_test[i].reshape(28, 28))\n",
    "    plt.gray()\n",
    "    ax.get_xaxis().set_visible(False)\n",
    "    ax.get_yaxis().set_visible(False)\n",
    "    # \n",
    "    # Display original image - Just line sample code provided earlier.\n",
    "    #\n",
    "    \n",
    "    # \n",
    "    # Display reconstruced (decoded) images. You need to slightly change your code.\n",
    "    #\n",
    "    ax = plt.subplot(2, n, i + 1+n)\n",
    "    plt.imshow(decoded_imgs[i].reshape(28, 28))\n",
    "    plt.gray()\n",
    "    ax.get_xaxis().set_visible(False)\n",
    "    ax.get_yaxis().set_visible(False)\n",
    "plt.show()"
   ]
  },
  {
   "cell_type": "code",
   "execution_count": 21,
   "metadata": {
    "id": "OdDjYQC5m8Ie"
   },
   "outputs": [],
   "source": [
    "from tensorflow.keras.layers import GaussianNoise"
   ]
  },
  {
   "cell_type": "code",
   "execution_count": 22,
   "metadata": {
    "id": "da3tX601m8Ie"
   },
   "outputs": [],
   "source": [
    "sample = GaussianNoise(0.2)\n",
    "noisey = sample(x_test[0:2],training=True)"
   ]
  },
  {
   "cell_type": "code",
   "execution_count": 23,
   "metadata": {
    "colab": {
     "base_uri": "https://localhost:8080/",
     "height": 283
    },
    "id": "QrTuAs-Hm8Ie",
    "outputId": "5e85506e-6980-4470-b322-eaf6c911bba5"
   },
   "outputs": [
    {
     "data": {
      "text/plain": [
       "<matplotlib.image.AxesImage at 0x15764cb1960>"
      ]
     },
     "execution_count": 23,
     "metadata": {},
     "output_type": "execute_result"
    },
    {
     "data": {
      "image/png": "[encoded data removed]",
      "text/plain": [
       "<Figure size 640x480 with 1 Axes>"
      ]
     },
     "metadata": {},
     "output_type": "display_data"
    }
   ],
   "source": [
    "plt.imshow(x_test[0])"
   ]
  },
  {
   "cell_type": "code",
   "execution_count": 24,
   "metadata": {
    "colab": {
     "base_uri": "https://localhost:8080/",
     "height": 283
    },
    "id": "-O6S5HhSm8If",
    "outputId": "3b2e48c8-b14d-4080-869d-734844ce5ac1"
   },
   "outputs": [
    {
     "data": {
      "text/plain": [
       "<matplotlib.image.AxesImage at 0x1576816b100>"
      ]
     },
     "execution_count": 24,
     "metadata": {},
     "output_type": "execute_result"
    },
    {
     "data": {
      "image/png": "[encoded data removed]",
      "text/plain": [
       "<Figure size 640x480 with 1 Axes>"
      ]
     },
     "metadata": {},
     "output_type": "display_data"
    }
   ],
   "source": [
    "plt.imshow(noisey[0])"
   ]
  },
  {
   "cell_type": "markdown",
   "metadata": {
    "id": "PCnzI8Mrm8If"
   },
   "source": [
    "### Create  noise removal autoencoder and train it.\n",
    "\n",
    "# Input - Images with noise\n",
    "# Labels - Clean images."
   ]
  },
  {
   "cell_type": "code",
   "execution_count": 29,
   "metadata": {
    "id": "sAwfn_Uqm8If"
   },
   "outputs": [],
   "source": [
    "\n",
    "encoder = Sequential()\n",
    "encoder.add(Flatten(input_shape=[28,28]))\n",
    "encoder.add(GaussianNoise(0.2))\n",
    "encoder.add(Dense(360, activation='relu', input_shape=(x_train.shape[1],)))\n",
    "encoder.add(Dense(300,activation='relu'))\n",
    "encoder.add(Dense(120,activation='relu'))\n",
    "encoder.add(Dense(50,activation='relu'))\n",
    "encoder.add(Dense(25,activation='relu'))\n",
    "# We are adding noise to make input as noisy image\n",
    "#\n",
    "# Add layers of encoder network. You could use same number of layers as earlier.\n",
    "#\n"
   ]
  },
  {
   "cell_type": "code",
   "execution_count": 30,
   "metadata": {
    "id": "w51A8hiQm8If"
   },
   "outputs": [],
   "source": [
    "decoder = Sequential()\n",
    "decoder.add(Dense(50,input_shape=[25],activation='relu'))\n",
    "decoder.add(Dense(120,activation='relu'))\n",
    "decoder.add(Dense(300,activation='relu'))\n",
    "decoder.add(Dense(360,activation='relu'))\n",
    "\n",
    "\n",
    "#\n",
    "# Add layers of decoder network. You could use same number of layers as earlier.\n",
    "#\n",
    "\n",
    "decoder.add(Dense(28 * 28, activation=\"sigmoid\"))\n",
    "decoder.add(Reshape([28, 28]))"
   ]
  },
  {
   "cell_type": "code",
   "execution_count": 31,
   "metadata": {
    "id": "kHurlGFvm8If"
   },
   "outputs": [],
   "source": [
    "noise_remover = Sequential([encoder, decoder])"
   ]
  },
  {
   "cell_type": "code",
   "execution_count": 32,
   "metadata": {
    "id": "fpY3GDCBm8If"
   },
   "outputs": [],
   "source": [
    "# Compile the network as earlier\n",
    "noise_remover.compile(optimizer='adam',\n",
    "              loss='binary_crossentropy',\n",
    "              metrics=['accuracy'])"
   ]
  },
  {
   "cell_type": "code",
   "execution_count": 33,
   "metadata": {},
   "outputs": [
    {
     "name": "stdout",
     "output_type": "stream",
     "text": [
      "Epoch 1/20\n",
      "1875/1875 [==============================] - 19s 10ms/step - loss: 0.1759 - accuracy: 0.1747 - val_loss: 0.1356 - val_accuracy: 0.2229\n",
      "Epoch 2/20\n",
      "1875/1875 [==============================] - 19s 10ms/step - loss: 0.1318 - accuracy: 0.2290 - val_loss: 0.1237 - val_accuracy: 0.2344\n",
      "Epoch 3/20\n",
      "1875/1875 [==============================] - 17s 9ms/step - loss: 0.1241 - accuracy: 0.2411 - val_loss: 0.1186 - val_accuracy: 0.2496\n",
      "Epoch 4/20\n",
      "1875/1875 [==============================] - 18s 9ms/step - loss: 0.1189 - accuracy: 0.2495 - val_loss: 0.1139 - val_accuracy: 0.2455\n",
      "Epoch 5/20\n",
      "1875/1875 [==============================] - 17s 9ms/step - loss: 0.1149 - accuracy: 0.2555 - val_loss: 0.1103 - val_accuracy: 0.2615\n",
      "Epoch 6/20\n",
      "1875/1875 [==============================] - 18s 9ms/step - loss: 0.1111 - accuracy: 0.2615 - val_loss: 0.1056 - val_accuracy: 0.2685\n",
      "Epoch 7/20\n",
      "1875/1875 [==============================] - 18s 9ms/step - loss: 0.1082 - accuracy: 0.2660 - val_loss: 0.1039 - val_accuracy: 0.2613\n",
      "Epoch 8/20\n",
      "1875/1875 [==============================] - 18s 10ms/step - loss: 0.1061 - accuracy: 0.2705 - val_loss: 0.1018 - val_accuracy: 0.2733\n",
      "Epoch 9/20\n",
      "1875/1875 [==============================] - 18s 10ms/step - loss: 0.1047 - accuracy: 0.2741 - val_loss: 0.1010 - val_accuracy: 0.2771\n",
      "Epoch 10/20\n",
      "1875/1875 [==============================] - 19s 10ms/step - loss: 0.1035 - accuracy: 0.2768 - val_loss: 0.1001 - val_accuracy: 0.2813\n",
      "Epoch 11/20\n",
      "1875/1875 [==============================] - 18s 9ms/step - loss: 0.1026 - accuracy: 0.2785 - val_loss: 0.1001 - val_accuracy: 0.2758\n",
      "Epoch 12/20\n",
      "1875/1875 [==============================] - 18s 10ms/step - loss: 0.1019 - accuracy: 0.2805 - val_loss: 0.0983 - val_accuracy: 0.2744\n",
      "Epoch 13/20\n",
      "1875/1875 [==============================] - 19s 10ms/step - loss: 0.1014 - accuracy: 0.2822 - val_loss: 0.0979 - val_accuracy: 0.2790\n",
      "Epoch 14/20\n",
      "1875/1875 [==============================] - 18s 10ms/step - loss: 0.1007 - accuracy: 0.2833 - val_loss: 0.0984 - val_accuracy: 0.2867\n",
      "Epoch 15/20\n",
      "1875/1875 [==============================] - 18s 10ms/step - loss: 0.1002 - accuracy: 0.2847 - val_loss: 0.0973 - val_accuracy: 0.2910\n",
      "Epoch 16/20\n",
      "1875/1875 [==============================] - 18s 9ms/step - loss: 0.0997 - accuracy: 0.2861 - val_loss: 0.0969 - val_accuracy: 0.2824\n",
      "Epoch 17/20\n",
      "1875/1875 [==============================] - 18s 9ms/step - loss: 0.0993 - accuracy: 0.2862 - val_loss: 0.0963 - val_accuracy: 0.2897\n",
      "Epoch 18/20\n",
      "1875/1875 [==============================] - 18s 10ms/step - loss: 0.0988 - accuracy: 0.2876 - val_loss: 0.0960 - val_accuracy: 0.2927\n",
      "Epoch 19/20\n",
      "1875/1875 [==============================] - 18s 9ms/step - loss: 0.0984 - accuracy: 0.2882 - val_loss: 0.0956 - val_accuracy: 0.2931\n",
      "Epoch 20/20\n",
      "1875/1875 [==============================] - 18s 9ms/step - loss: 0.0980 - accuracy: 0.2900 - val_loss: 0.0957 - val_accuracy: 0.2878\n"
     ]
    },
    {
     "data": {
      "text/plain": [
       "<keras.src.callbacks.History at 0x157684a0b20>"
      ]
     },
     "execution_count": 33,
     "metadata": {},
     "output_type": "execute_result"
    }
   ],
   "source": [
    "# Fit the network as earlier.\n",
    "noise_remover.fit(x_train, x_train, epochs=20, validation_data=[x_test, x_test])"
   ]
  },
  {
   "cell_type": "code",
   "execution_count": 35,
   "metadata": {
    "id": "rQXenyFYm8Ig"
   },
   "outputs": [],
   "source": [
    "ten_noisey_images = sample(x_test[0:10],training=True)\n",
    "denoised = noise_remover(ten_noisey_images[0:10])"
   ]
  },
  {
   "cell_type": "code",
   "execution_count": 36,
   "metadata": {
    "id": "2IJtMOcKm8Ig",
    "scrolled": true
   },
   "outputs": [
    {
     "name": "stdout",
     "output_type": "stream",
     "text": [
      "The Original\n"
     ]
    },
    {
     "data": {
      "image/png": "[encoded data removed]",
      "text/plain": [
       "<Figure size 640x480 with 1 Axes>"
      ]
     },
     "metadata": {},
     "output_type": "display_data"
    },
    {
     "name": "stdout",
     "output_type": "stream",
     "text": [
      "The Noisey Version\n"
     ]
    },
    {
     "data": {
      "image/png": "[encoded data removed]",
      "text/plain": [
       "<Figure size 640x480 with 1 Axes>"
      ]
     },
     "metadata": {},
     "output_type": "display_data"
    },
    {
     "name": "stdout",
     "output_type": "stream",
     "text": [
      "After going through denoiser\n"
     ]
    },
    {
     "data": {
      "image/png": "[encoded data removed]",
      "text/plain": [
       "<Figure size 640x480 with 1 Axes>"
      ]
     },
     "metadata": {},
     "output_type": "display_data"
    }
   ],
   "source": [
    "n = 4\n",
    "print(\"The Original\")\n",
    "plt.imshow(x_test[n])\n",
    "plt.show()\n",
    "\n",
    "\n",
    "print(\"The Noisey Version\")\n",
    "plt.imshow(ten_noisey_images[n])\n",
    "plt.show()\n",
    "\n",
    "\n",
    "print(\"After going through denoiser\")\n",
    "plt.imshow(denoised[n])\n",
    "plt.show()"
   ]
  },
  {
   "cell_type": "code",
   "execution_count": null,
   "metadata": {},
   "outputs": [],
   "source": []
  },
  {
   "cell_type": "markdown",
   "metadata": {},
   "source": [
    "## Lab Logbook requirement:\n",
    "\n",
    "- Put the model summary for task 1 in you lab logbook.\n",
    "\n",
    "Ensure that no code or other information is added to the logbook and that only required information is present.  Marks will not be awarded if anything else is found in the logbook or instructions are not clearly followed.\n",
    "\n",
    "NOTE: DON'T FORGET TO SAVE AND BACK UP YOUR COMPLETED JUPYTER NOTEBOOK AND LAB LOGBOOK ON GITHUB OR ONEDRIVE."
   ]
  }
 ],
 "metadata": {
  "colab": {
   "provenance": []
  },
  "kernelspec": {
   "display_name": "Python 3 (ipykernel)",
   "language": "python",
   "name": "python3"
  },
  "language_info": {
   "codemirror_mode": {
    "name": "ipython",
    "version": 3
   },
   "file_extension": ".py",
   "mimetype": "text/x-python",
   "name": "python",
   "nbconvert_exporter": "python",
   "pygments_lexer": "ipython3",
   "version": "3.10.9"
  }
 },
 "nbformat": 4,
 "nbformat_minor": 1
}
