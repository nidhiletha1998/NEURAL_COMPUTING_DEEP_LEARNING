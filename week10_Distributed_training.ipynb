{
  "nbformat": 4,
  "nbformat_minor": 0,
  "metadata": {
    "colab": {
      "provenance": []
    },
    "kernelspec": {
      "name": "python3",
      "display_name": "Python 3"
    },
    "language_info": {
      "name": "python"
    }
  },
  "cells": [
    {
      "cell_type": "markdown",
      "source": [
        "# Distributed Training of Neural Network Models\n",
        "\n",
        "\n",
        "Below is the basic implementation of Federated Learning code for 2 clients and a server for one communication round using the MNIST dataset.\n",
        "\n",
        "Your task for this lab is to utilize this code as a benchmark and accomplish  the following objectives:\n",
        "\n",
        "1. Comment each section of the code to understand its functionality.\n",
        "\n",
        "2. Experiment with different neural network architectures, varying the number of layers and activation functions\n",
        "\n",
        "3. Assess the model's performance (accuracy, precision, recall, and f-score) as the number of clients changes. Utilize 2, 4, 6, 8, and 10 clients, and plot a graph illustrating the model's performance across varying client counts.\n",
        "\n",
        "4. Introduce one dishonest client for a any sepcific number of clients of your choice. For this client, assign some training labels ('y_train') to a specific label, such as '4'. Analyze how the performance ((accuracy, precision, recall, and f-score)) of the global model is affected by the presence of a dishonest client. Find approximately how many labels need to be maliciously altered so that the performance degrades."
      ],
      "metadata": {
        "id": "BAfJCaULD2Yp"
      }
    },
    {
      "cell_type": "code",
      "source": [],
      "metadata": {
        "id": "qegNJcq3LB7m"
      },
      "execution_count": null,
      "outputs": []
    },
    {
      "cell_type": "code",
      "execution_count": null,
      "metadata": {
        "id": "P_GFzZjxRR5O"
      },
      "outputs": [],
      "source": [
        "import numpy as np\n",
        "import tensorflow as tf\n",
        "from tensorflow.keras.datasets import mnist\n",
        "from tensorflow.keras.models import Sequential\n",
        "from tensorflow.keras.layers import Dense, Flatten\n",
        "from tensorflow.keras.optimizers import SGD\n",
        "from sklearn.model_selection import train_test_split\n",
        "from keras import backend as K\n",
        "import random\n",
        "\n",
        "\n",
        "np.random.seed(2243313) # Set seed for numpy. Put your SID instead of number '42'\n",
        "random.seed(2243313) # Set seed for Python's built-in random number generator.  Put your SID instead of number '42'\n",
        "tf.random.set_seed(2243313) # Set seed for TensorFlow. Put your SID instead of number '42'\n",
        "K.clear_session()\n",
        "\n",
        "\n",
        "# Load MNIST dataset\n",
        "(x_train, y_train), (x_test, y_test) = mnist.load_data()\n",
        "\n",
        "# Normalize and reshape data\n",
        "x_train = x_train.astype('float32') / 255.0\n",
        "x_test = x_test.astype('float32') / 255.0\n",
        "x_train = np.expand_dims(x_train, -1)\n",
        "x_test = np.expand_dims(x_test, -1)\n",
        "\n",
        "# Define client functions\n",
        "def create_client_model():\n",
        "    model = Sequential([\n",
        "        Flatten(input_shape=(28, 28, 1)),\n",
        "        Dense(128, activation='relu'),\n",
        "        Dense(10, activation='softmax')\n",
        "    ])\n",
        "    model.compile(optimizer='adam', loss='sparse_categorical_crossentropy', metrics=['accuracy'])\n",
        "    return model\n",
        "\n",
        "def train_client_model(model, x_train, y_train, epochs=5):\n",
        "    model.fit(x_train, y_train, epochs=epochs, verbose=0)\n",
        "    return model\n",
        "\n",
        "\n"
      ]
    },
    {
      "cell_type": "markdown",
      "source": [
        "2 Clients"
      ],
      "metadata": {
        "id": "pbUELLpHXFuK"
      }
    },
    {
      "cell_type": "code",
      "source": [
        "# Split data into two clients\n",
        "x_train_c1, x_train_c2, y_train_c1, y_train_c2 = train_test_split(x_train, y_train, test_size=0.5, random_state=2243313)\n",
        "\n",
        "print(x_train_c1.shape)\n",
        "print(x_train_c2.shape)\n",
        "print(y_train_c1.shape)\n",
        "print(y_train_c2.shape)\n",
        "\n",
        "# Create and train client models\n",
        "client1_model = create_client_model()\n",
        "client2_model = create_client_model()\n",
        "\n",
        "client1_model = train_client_model(client1_model, x_train_c1, y_train_c1)\n",
        "client2_model = train_client_model(client2_model, x_train_c2, y_train_c2)\n",
        "\n"
      ],
      "metadata": {
        "colab": {
          "base_uri": "https://localhost:8080/"
        },
        "id": "wX-0IzAJXC3n",
        "outputId": "d7a732b6-2164-48f9-c4fb-2073142769da"
      },
      "execution_count": null,
      "outputs": [
        {
          "output_type": "stream",
          "name": "stdout",
          "text": [
            "(30000, 28, 28, 1)\n",
            "(30000, 28, 28, 1)\n",
            "(30000,)\n",
            "(30000,)\n"
          ]
        }
      ]
    },
    {
      "cell_type": "code",
      "source": [
        "# Federated averaging\n",
        "def federated_average_weights(weights1, weights2):\n",
        "    new_weights = []\n",
        "    for w1, w2 in zip(weights1, weights2):\n",
        "        new_weights.append((w1 + w2) / 2)\n",
        "    return new_weights\n",
        "\n",
        "# Aggregate models\n",
        "aggregated_weights = federated_average_weights(client1_model.get_weights(), client2_model.get_weights())\n",
        "\n",
        "# Create global model and set weights\n",
        "global_model = create_client_model()\n",
        "global_model.set_weights(aggregated_weights)\n",
        "\n",
        "# Evaluate global model\n",
        "test_loss, test_acc = global_model.evaluate(x_test, y_test, verbose=2)\n",
        "print('Test accuracy:', test_acc)\n"
      ],
      "metadata": {
        "colab": {
          "base_uri": "https://localhost:8080/"
        },
        "id": "5o40oFOMXNAD",
        "outputId": "3da466d8-4d35-4ad4-a175-3ac874964cc3"
      },
      "execution_count": null,
      "outputs": [
        {
          "output_type": "stream",
          "name": "stdout",
          "text": [
            "313/313 - 1s - loss: 0.4412 - accuracy: 0.8653 - 702ms/epoch - 2ms/step\n",
            "Test accuracy: 0.8652999997138977\n"
          ]
        }
      ]
    },
    {
      "cell_type": "code",
      "source": [
        "test_accuracy = []\n"
      ],
      "metadata": {
        "id": "ExzIbmV8YCz4"
      },
      "execution_count": null,
      "outputs": []
    },
    {
      "cell_type": "markdown",
      "source": [],
      "metadata": {
        "id": "KUVQ9WjpXEuE"
      }
    },
    {
      "cell_type": "code",
      "source": [
        "test_accuracy.append(0.8652999997138977)\n",
        "test_accuracy"
      ],
      "metadata": {
        "colab": {
          "base_uri": "https://localhost:8080/"
        },
        "id": "hqRK7kT_YGAi",
        "outputId": "052c5137-befd-46c7-e7dd-a6037e5976e9"
      },
      "execution_count": null,
      "outputs": [
        {
          "output_type": "execute_result",
          "data": {
            "text/plain": [
              "[0.8652999997138977]"
            ]
          },
          "metadata": {},
          "execution_count": 16
        }
      ]
    },
    {
      "cell_type": "code",
      "source": [
        "from sklearn.metrics import classification_report\n",
        "from sklearn.metrics import accuracy_score, precision_score, recall_score, f1_score"
      ],
      "metadata": {
        "id": "a1yfwXmdYW5z"
      },
      "execution_count": null,
      "outputs": []
    },
    {
      "cell_type": "code",
      "source": [
        "predictions = global_model.predict(x_test)\n",
        "print(predictions.shape)\n",
        "\n",
        "predictions = list(predictions.argmax(axis=1))"
      ],
      "metadata": {
        "colab": {
          "base_uri": "https://localhost:8080/"
        },
        "id": "H5QH5QpEYepp",
        "outputId": "d542f16c-5741-4ee2-e5e9-66d668539745"
      },
      "execution_count": null,
      "outputs": [
        {
          "output_type": "stream",
          "name": "stdout",
          "text": [
            "313/313 [==============================] - 1s 4ms/step\n",
            "(10000, 10)\n"
          ]
        }
      ]
    },
    {
      "cell_type": "code",
      "source": [
        "print(classification_report(y_test, predictions))"
      ],
      "metadata": {
        "colab": {
          "base_uri": "https://localhost:8080/"
        },
        "id": "pu7FCu2KYf4j",
        "outputId": "0f8b928a-fc78-46e5-d783-f9d93ee76df3"
      },
      "execution_count": null,
      "outputs": [
        {
          "output_type": "stream",
          "name": "stdout",
          "text": [
            "              precision    recall  f1-score   support\n",
            "\n",
            "           0       0.99      0.35      0.52       980\n",
            "           1       0.97      0.98      0.98      1135\n",
            "           2       0.83      0.97      0.89      1032\n",
            "           3       0.86      0.95      0.90      1010\n",
            "           4       0.98      0.84      0.90       982\n",
            "           5       0.75      0.91      0.82       892\n",
            "           6       0.70      0.98      0.82       958\n",
            "           7       0.87      0.95      0.91      1028\n",
            "           8       0.96      0.83      0.89       974\n",
            "           9       0.92      0.86      0.89      1009\n",
            "\n",
            "    accuracy                           0.87     10000\n",
            "   macro avg       0.88      0.86      0.85     10000\n",
            "weighted avg       0.89      0.87      0.86     10000\n",
            "\n"
          ]
        }
      ]
    },
    {
      "cell_type": "code",
      "source": [
        "print(\"Accuracy test set: \", accuracy_score(y_test, predictions))\n",
        "\n",
        "print(\"Precision test set: \", precision_score(y_test, predictions, average = 'weighted' ))\n",
        "print(\"Recall test set: \", recall_score(y_test, predictions, average = 'weighted' ))\n",
        "print(\"F-score test set: \", f1_score(y_test, predictions, average = 'weighted' ))"
      ],
      "metadata": {
        "colab": {
          "base_uri": "https://localhost:8080/"
        },
        "id": "leFS-zB4Ymr-",
        "outputId": "9b8161fb-0fa3-4926-ee38-2c0a5e5bb7b7"
      },
      "execution_count": null,
      "outputs": [
        {
          "output_type": "stream",
          "name": "stdout",
          "text": [
            "Accuracy test set:  0.8653\n",
            "Precision test set:  0.8856584458216805\n",
            "Recall test set:  0.8653\n",
            "F-score test set:  0.8554286671379913\n"
          ]
        }
      ]
    },
    {
      "cell_type": "code",
      "source": [
        "test_precision = []\n",
        "test_recall    = []\n",
        "test_f1_score  = []"
      ],
      "metadata": {
        "id": "_49SGsbkZCvm"
      },
      "execution_count": null,
      "outputs": []
    },
    {
      "cell_type": "code",
      "source": [
        "test_precision.append(0.8856584458216805)\n",
        "test_recall.append(0.8653)\n",
        "test_f1_score.append(0.8554286671379913)"
      ],
      "metadata": {
        "id": "7AonxQGFY3QS"
      },
      "execution_count": null,
      "outputs": []
    },
    {
      "cell_type": "code",
      "source": [
        "from sklearn.metrics import confusion_matrix, ConfusionMatrixDisplay"
      ],
      "metadata": {
        "id": "vO8uG61SPyPO"
      },
      "execution_count": null,
      "outputs": []
    },
    {
      "cell_type": "code",
      "source": [
        "# display confusion matrix between test output and predicted output\n",
        "\n",
        "cm = confusion_matrix(y_test, predictions)\n",
        "disp = ConfusionMatrixDisplay(confusion_matrix = cm)\n",
        "disp.plot();\n",
        "#plt.show()"
      ],
      "metadata": {
        "colab": {
          "base_uri": "https://localhost:8080/",
          "height": 449
        },
        "id": "gTrf5c5nYcxE",
        "outputId": "ad3787fd-da2a-4e3b-97e5-bab379be2cee"
      },
      "execution_count": null,
      "outputs": [
        {
          "output_type": "display_data",
          "data": {
            "text/plain": [
              "<Figure size 640x480 with 2 Axes>"
            ],
            "image/png": "[encoded data removed]"
          },
          "metadata": {}
        }
      ]
    },
    {
      "cell_type": "code",
      "source": [],
      "metadata": {
        "id": "I1-jrD1iRzme"
      },
      "execution_count": null,
      "outputs": []
    },
    {
      "cell_type": "markdown",
      "source": [
        "4 Clients"
      ],
      "metadata": {
        "id": "NPFb9wX1Zp7L"
      }
    },
    {
      "cell_type": "code",
      "source": [
        "# Split data into 4 clients"
      ],
      "metadata": {
        "id": "9jBFHeLFZwtD"
      },
      "execution_count": null,
      "outputs": []
    },
    {
      "cell_type": "code",
      "source": [
        "Client_1 = (x_train[0:15000], y_train[0:15000])\n",
        "Client_2 = (x_train[15000:30000], y_train[15000:30000])\n",
        "Client_3 = (x_train[30000:45000], y_train[30000:45000])\n",
        "Client_4 = (x_train[45000:], y_train[45000:])"
      ],
      "metadata": {
        "id": "jTb2QJjzZ2ZY"
      },
      "execution_count": null,
      "outputs": []
    },
    {
      "cell_type": "code",
      "source": [
        "print(Client_1[0].shape)\n",
        "print(Client_2[0].shape)\n",
        "print(Client_3[0].shape)\n",
        "print(Client_4[0].shape)\n",
        "\n",
        "print(Client_1[1].shape)\n",
        "print(Client_2[1].shape)\n",
        "print(Client_3[1].shape)\n",
        "print(Client_4[1].shape)"
      ],
      "metadata": {
        "colab": {
          "base_uri": "https://localhost:8080/"
        },
        "id": "zIwOxYGYZ5yk",
        "outputId": "cc88d72d-f5bb-4416-f135-a0bb948558a8"
      },
      "execution_count": null,
      "outputs": [
        {
          "output_type": "stream",
          "name": "stdout",
          "text": [
            "(15000, 28, 28, 1)\n",
            "(15000, 28, 28, 1)\n",
            "(15000, 28, 28, 1)\n",
            "(15000, 28, 28, 1)\n",
            "(15000,)\n",
            "(15000,)\n",
            "(15000,)\n",
            "(15000,)\n"
          ]
        }
      ]
    },
    {
      "cell_type": "code",
      "source": [
        "# Create and train client models\n",
        "client1_model = create_client_model()\n",
        "client2_model = create_client_model()\n",
        "client3_model = create_client_model()\n",
        "client4_model = create_client_model()\n",
        "\n",
        "client1_model = train_client_model(client1_model, Client_1[0], Client_1[1])\n",
        "client2_model = train_client_model(client2_model, Client_2[0], Client_1[1])\n",
        "client3_model = train_client_model(client3_model, Client_3[0], Client_1[1])\n",
        "client4_model = train_client_model(client4_model, Client_4[0], Client_1[1])"
      ],
      "metadata": {
        "id": "gepR22vGZ-6K"
      },
      "execution_count": null,
      "outputs": []
    },
    {
      "cell_type": "code",
      "source": [
        "# Federated averaging\n",
        "def federated_average_weights(weights1, weights2, weights3, weights4):\n",
        "    new_weights = []\n",
        "    for w1, w2, w3, w4 in zip(weights1, weights2, weights3, weights4):\n",
        "        new_weights.append((w1 + w2 + w3 + w4) / 4)\n",
        "    return new_weights\n"
      ],
      "metadata": {
        "id": "RFjcBGysaI4w"
      },
      "execution_count": null,
      "outputs": []
    },
    {
      "cell_type": "code",
      "source": [
        "# Aggregate models\n",
        "aggregated_weights = federated_average_weights(client1_model.get_weights(),\n",
        "                                               client2_model.get_weights(),\n",
        "                                               client3_model.get_weights(),\n",
        "                                               client4_model.get_weights())\n",
        "\n",
        "# Create global model and set weights\n",
        "global_model = create_client_model()\n",
        "global_model.set_weights(aggregated_weights)"
      ],
      "metadata": {
        "id": "p8OzY1yTaLFW"
      },
      "execution_count": null,
      "outputs": []
    },
    {
      "cell_type": "code",
      "source": [
        "# Evaluate global model\n",
        "test_loss, test_acc = global_model.evaluate(x_test, y_test, verbose=2)\n",
        "print('Test accuracy:', test_acc)"
      ],
      "metadata": {
        "colab": {
          "base_uri": "https://localhost:8080/"
        },
        "id": "62liyYKmaL9k",
        "outputId": "e8f96b50-5f6d-4a5b-9653-e186704966f5"
      },
      "execution_count": null,
      "outputs": [
        {
          "output_type": "stream",
          "name": "stdout",
          "text": [
            "313/313 - 1s - loss: 2.2251 - accuracy: 0.3984 - 681ms/epoch - 2ms/step\n",
            "Test accuracy: 0.3984000086784363\n"
          ]
        }
      ]
    },
    {
      "cell_type": "code",
      "source": [
        "predictions = global_model.predict(x_test)\n",
        "print(predictions.shape)\n",
        "\n",
        "predictions = list(predictions.argmax(axis=1))"
      ],
      "metadata": {
        "colab": {
          "base_uri": "https://localhost:8080/"
        },
        "id": "E6EE0ODsaOU3",
        "outputId": "c4a38d54-9404-4530-ab42-4d9ecdc5ef82"
      },
      "execution_count": null,
      "outputs": [
        {
          "output_type": "stream",
          "name": "stdout",
          "text": [
            "313/313 [==============================] - 1s 2ms/step\n",
            "(10000, 10)\n"
          ]
        }
      ]
    },
    {
      "cell_type": "code",
      "source": [
        "print(\"Accuracy test set: \", accuracy_score(y_test, predictions))\n",
        "\n",
        "print(\"Precision test set: \", precision_score(y_test, predictions, average = 'weighted' ))\n",
        "print(\"Recall test set: \", recall_score(y_test, predictions, average = 'weighted' ))\n",
        "print(\"F-score test set: \", f1_score(y_test, predictions, average = 'weighted' ))\n",
        "\n",
        "print(classification_report(y_test, predictions))"
      ],
      "metadata": {
        "colab": {
          "base_uri": "https://localhost:8080/"
        },
        "id": "a5IfIY5saRSP",
        "outputId": "da6fb59c-5352-45f5-c18d-5034b75e5405"
      },
      "execution_count": null,
      "outputs": [
        {
          "output_type": "stream",
          "name": "stdout",
          "text": [
            "Accuracy test set:  0.3984\n",
            "Precision test set:  0.36756040425356656\n",
            "Recall test set:  0.3984\n",
            "F-score test set:  0.36215371297003246\n",
            "              precision    recall  f1-score   support\n",
            "\n",
            "           0       0.34      0.18      0.24       980\n",
            "           1       0.60      0.90      0.72      1135\n",
            "           2       0.32      0.61      0.42      1032\n",
            "           3       0.35      0.55      0.43      1010\n",
            "           4       0.58      0.46      0.51       982\n",
            "           5       0.36      0.16      0.22       892\n",
            "           6       0.36      0.44      0.40       958\n",
            "           7       0.38      0.39      0.39      1028\n",
            "           8       0.24      0.17      0.20       974\n",
            "           9       0.11      0.02      0.03      1009\n",
            "\n",
            "    accuracy                           0.40     10000\n",
            "   macro avg       0.36      0.39      0.36     10000\n",
            "weighted avg       0.37      0.40      0.36     10000\n",
            "\n"
          ]
        }
      ]
    },
    {
      "cell_type": "code",
      "source": [
        "test_accuracy.append(0.3984000086784363)\n",
        "test_precision.append(0.36756040425356656)\n",
        "test_recall.append(0.3984)\n",
        "test_f1_score.append(0.36215371297003246)"
      ],
      "metadata": {
        "id": "r42VozsYaZgA"
      },
      "execution_count": null,
      "outputs": []
    },
    {
      "cell_type": "code",
      "source": [
        "print(test_accuracy)\n",
        "print(test_precision)\n",
        "print(test_recall)\n",
        "print(test_f1_score)"
      ],
      "metadata": {
        "colab": {
          "base_uri": "https://localhost:8080/"
        },
        "id": "RbAt5LXva1OS",
        "outputId": "ebc809e2-6cfc-404f-f5b5-1a340212b8a9"
      },
      "execution_count": null,
      "outputs": [
        {
          "output_type": "stream",
          "name": "stdout",
          "text": [
            "[0.8652999997138977, 0.3984000086784363]\n",
            "[0.8856584458216805, 0.36756040425356656]\n",
            "[0.8653, 0.3984]\n",
            "[0.8554286671379913, 0.36215371297003246]\n"
          ]
        }
      ]
    },
    {
      "cell_type": "code",
      "source": [],
      "metadata": {
        "id": "YhjYhnnwa4aL"
      },
      "execution_count": null,
      "outputs": []
    },
    {
      "cell_type": "markdown",
      "source": [
        "6 Clients\n"
      ],
      "metadata": {
        "id": "C2Eo_DWwa67Y"
      }
    },
    {
      "cell_type": "code",
      "source": [
        "Client_1 = (x_train[0:10000], y_train[0:10000])\n",
        "Client_2 = (x_train[10000:20000], y_train[10000:20000])\n",
        "Client_3 = (x_train[20000:30000], y_train[20000:30000])\n",
        "Client_4 = (x_train[30000:40000], y_train[30000:40000])\n",
        "Client_5 = (x_train[40000:50000], y_train[40000:50000])\n",
        "Client_6 = (x_train[50000:], y_train[50000:])\n",
        "\n",
        "print(Client_1[0].shape)\n",
        "print(Client_2[0].shape)\n",
        "print(Client_3[0].shape)\n",
        "print(Client_4[0].shape)\n",
        "print(Client_5[0].shape)\n",
        "print(Client_6[0].shape)\n",
        "\n",
        "print(Client_1[1].shape)\n",
        "print(Client_2[1].shape)\n",
        "print(Client_3[1].shape)\n",
        "print(Client_4[1].shape)\n",
        "print(Client_5[1].shape)\n",
        "print(Client_6[1].shape)"
      ],
      "metadata": {
        "colab": {
          "base_uri": "https://localhost:8080/"
        },
        "id": "wvMfpOx1a880",
        "outputId": "74408ea6-09eb-4b25-a3ac-cfd32abb395c"
      },
      "execution_count": null,
      "outputs": [
        {
          "output_type": "stream",
          "name": "stdout",
          "text": [
            "(10000, 28, 28, 1)\n",
            "(10000, 28, 28, 1)\n",
            "(10000, 28, 28, 1)\n",
            "(10000, 28, 28, 1)\n",
            "(10000, 28, 28, 1)\n",
            "(10000, 28, 28, 1)\n",
            "(10000,)\n",
            "(10000,)\n",
            "(10000,)\n",
            "(10000,)\n",
            "(10000,)\n",
            "(10000,)\n"
          ]
        }
      ]
    },
    {
      "cell_type": "code",
      "source": [
        "# Create and train client models\n",
        "client1_model = create_client_model()\n",
        "client2_model = create_client_model()\n",
        "client3_model = create_client_model()\n",
        "client4_model = create_client_model()\n",
        "client5_model = create_client_model()\n",
        "client6_model = create_client_model()\n",
        "\n",
        "client1_model = train_client_model(client1_model, Client_1[0], Client_1[1])\n",
        "client2_model = train_client_model(client2_model, Client_2[0], Client_1[1])\n",
        "client3_model = train_client_model(client3_model, Client_3[0], Client_1[1])\n",
        "client4_model = train_client_model(client4_model, Client_4[0], Client_1[1])\n",
        "client5_model = train_client_model(client5_model, Client_5[0], Client_5[1])\n",
        "client6_model = train_client_model(client6_model, Client_6[0], Client_6[1])"
      ],
      "metadata": {
        "id": "21OWCpQFbD6I"
      },
      "execution_count": null,
      "outputs": []
    },
    {
      "cell_type": "code",
      "source": [
        "# Federated averaging\n",
        "def federated_average_weights(weights1, weights2, weights3, weights4, weights5, weights6):\n",
        "    new_weights = []\n",
        "    for w1, w2, w3, w4, w5, w6 in zip(weights1, weights2, weights3, weights4, weights5, weights6):\n",
        "        new_weights.append((w1 + w2 + w3 + w4 + w5 + w6) / 6)\n",
        "    return new_weights\n",
        "\n",
        "\n",
        "# Aggregate models\n",
        "aggregated_weights = federated_average_weights(client1_model.get_weights(),\n",
        "                                               client2_model.get_weights(),\n",
        "                                               client3_model.get_weights(),\n",
        "                                               client4_model.get_weights(),\n",
        "                                               client5_model.get_weights(),\n",
        "                                               client6_model.get_weights())\n",
        "\n",
        "# Create global model and set weights\n",
        "global_model = create_client_model()\n",
        "global_model.set_weights(aggregated_weights)"
      ],
      "metadata": {
        "id": "rACRb7-lbHtW"
      },
      "execution_count": null,
      "outputs": []
    },
    {
      "cell_type": "code",
      "source": [
        "# Evaluate global model\n",
        "test_loss, test_acc = global_model.evaluate(x_test, y_test, verbose=2)\n",
        "print('Test accuracy:', test_acc)\n",
        "\n",
        "predictions = global_model.predict(x_test)\n",
        "print(predictions.shape)\n",
        "\n",
        "predictions = list(predictions.argmax(axis=1))\n",
        "\n",
        "print(\"Accuracy test set: \", accuracy_score(y_test, predictions))\n",
        "\n",
        "print(\"Precision test set: \", precision_score(y_test, predictions, average = 'weighted' ))\n",
        "print(\"Recall test set: \", recall_score(y_test, predictions, average = 'weighted' ))\n",
        "print(\"F-score test set: \", f1_score(y_test, predictions, average = 'weighted' ))\n",
        "\n",
        "print(classification_report(y_test, predictions))"
      ],
      "metadata": {
        "colab": {
          "base_uri": "https://localhost:8080/"
        },
        "id": "i0yrTTYtbKxt",
        "outputId": "dcebf085-45db-447a-8dd3-7a0a7fb894ab"
      },
      "execution_count": null,
      "outputs": [
        {
          "output_type": "stream",
          "name": "stdout",
          "text": [
            "313/313 - 1s - loss: 1.9389 - accuracy: 0.7757 - 671ms/epoch - 2ms/step\n",
            "Test accuracy: 0.7756999731063843\n",
            "313/313 [==============================] - 1s 2ms/step\n",
            "(10000, 10)\n",
            "Accuracy test set:  0.7757\n",
            "Precision test set:  0.8016136233957822\n",
            "Recall test set:  0.7757\n",
            "F-score test set:  0.7572420703248711\n",
            "              precision    recall  f1-score   support\n",
            "\n",
            "           0       0.91      0.88      0.89       980\n",
            "           1       0.76      0.99      0.86      1135\n",
            "           2       0.83      0.66      0.74      1032\n",
            "           3       0.63      0.91      0.75      1010\n",
            "           4       0.89      0.88      0.89       982\n",
            "           5       0.79      0.83      0.81       892\n",
            "           6       0.84      0.94      0.89       958\n",
            "           7       0.76      0.65      0.70      1028\n",
            "           8       0.98      0.20      0.34       974\n",
            "           9       0.65      0.80      0.72      1009\n",
            "\n",
            "    accuracy                           0.78     10000\n",
            "   macro avg       0.80      0.77      0.76     10000\n",
            "weighted avg       0.80      0.78      0.76     10000\n",
            "\n"
          ]
        }
      ]
    },
    {
      "cell_type": "code",
      "source": [
        "test_accuracy.append(0.7756999731063843)\n",
        "test_precision.append(0.8016136233957822)\n",
        "test_recall.append(0.7757)\n",
        "test_f1_score.append(0.7572420703248711)\n",
        "\n",
        "print(test_accuracy)\n",
        "print(test_precision)\n",
        "print(test_recall)\n",
        "print(test_f1_score)"
      ],
      "metadata": {
        "colab": {
          "base_uri": "https://localhost:8080/"
        },
        "id": "fbtNVwTwbL0I",
        "outputId": "4a1159e4-f6e8-4b84-c689-9d4e69c9fa2c"
      },
      "execution_count": null,
      "outputs": [
        {
          "output_type": "stream",
          "name": "stdout",
          "text": [
            "[0.8652999997138977, 0.3984000086784363, 0.7756999731063843]\n",
            "[0.8856584458216805, 0.36756040425356656, 0.8016136233957822]\n",
            "[0.8653, 0.3984, 0.7757]\n",
            "[0.8554286671379913, 0.36215371297003246, 0.7572420703248711]\n"
          ]
        }
      ]
    },
    {
      "cell_type": "markdown",
      "source": [
        "8 Clients\n"
      ],
      "metadata": {
        "id": "NFD7irO3bQh_"
      }
    },
    {
      "cell_type": "code",
      "source": [
        "Client_1 = (x_train[0:7500], y_train[0:7500])\n",
        "Client_2 = (x_train[7500:15000], y_train[7500:15000])\n",
        "Client_3 = (x_train[15000:22500], y_train[15000:22500])\n",
        "Client_4 = (x_train[22500:30000], y_train[22500:30000])\n",
        "Client_5 = (x_train[30000:37500], y_train[30000:37500])\n",
        "Client_6 = (x_train[37500:45000], y_train[37500:45000])\n",
        "Client_7 = (x_train[45000:52500], y_train[45000:52500])\n",
        "Client_8 = (x_train[52500:], y_train[52500:])\n",
        "\n",
        "print(Client_1[0].shape)\n",
        "print(Client_2[0].shape)\n",
        "print(Client_3[0].shape)\n",
        "print(Client_4[0].shape)\n",
        "print(Client_5[0].shape)\n",
        "print(Client_6[0].shape)\n",
        "print(Client_7[0].shape)\n",
        "print(Client_8[0].shape)\n",
        "\n",
        "print(Client_1[1].shape)\n",
        "print(Client_2[1].shape)\n",
        "print(Client_3[1].shape)\n",
        "print(Client_4[1].shape)\n",
        "print(Client_5[1].shape)\n",
        "print(Client_6[1].shape)\n",
        "print(Client_7[1].shape)\n",
        "print(Client_8[1].shape)\n",
        "\n",
        "# Create and train client models\n",
        "client1_model = create_client_model()\n",
        "client2_model = create_client_model()\n",
        "client3_model = create_client_model()\n",
        "client4_model = create_client_model()\n",
        "client5_model = create_client_model()\n",
        "client6_model = create_client_model()\n",
        "client7_model = create_client_model()\n",
        "client8_model = create_client_model()\n",
        "\n",
        "client1_model = train_client_model(client1_model, Client_1[0], Client_1[1])\n",
        "client2_model = train_client_model(client2_model, Client_2[0], Client_1[1])\n",
        "client3_model = train_client_model(client3_model, Client_3[0], Client_1[1])\n",
        "client4_model = train_client_model(client4_model, Client_4[0], Client_1[1])\n",
        "client5_model = train_client_model(client5_model, Client_5[0], Client_5[1])\n",
        "client6_model = train_client_model(client6_model, Client_6[0], Client_6[1])\n",
        "client7_model = train_client_model(client7_model, Client_7[0], Client_7[1])\n",
        "client8_model = train_client_model(client8_model, Client_8[0], Client_8[1])"
      ],
      "metadata": {
        "colab": {
          "base_uri": "https://localhost:8080/"
        },
        "id": "2qSHIIo4bSrA",
        "outputId": "66060e72-bfca-40b8-c58a-d5291a030e3f"
      },
      "execution_count": null,
      "outputs": [
        {
          "output_type": "stream",
          "name": "stdout",
          "text": [
            "(7500, 28, 28, 1)\n",
            "(7500, 28, 28, 1)\n",
            "(7500, 28, 28, 1)\n",
            "(7500, 28, 28, 1)\n",
            "(7500, 28, 28, 1)\n",
            "(7500, 28, 28, 1)\n",
            "(7500, 28, 28, 1)\n",
            "(7500, 28, 28, 1)\n",
            "(7500,)\n",
            "(7500,)\n",
            "(7500,)\n",
            "(7500,)\n",
            "(7500,)\n",
            "(7500,)\n",
            "(7500,)\n",
            "(7500,)\n"
          ]
        }
      ]
    },
    {
      "cell_type": "code",
      "source": [
        "# Federated averaging\n",
        "def federated_average_weights(weights1, weights2, weights3, weights4,\n",
        "                              weights5, weights6, weights7, weights8):\n",
        "    new_weights = []\n",
        "    for w1, w2, w3, w4, w5, w6, w7, w8 in zip(weights1, weights2, weights3, weights4,\n",
        "                                              weights5, weights6, weights7, weights8):\n",
        "        new_weights.append((w1 + w2 + w3 + w4 + w5 + w6 + w7 +w8) / 8)\n",
        "    return new_weights\n",
        "\n",
        "\n",
        "# Aggregate models\n",
        "aggregated_weights = federated_average_weights(client1_model.get_weights(),\n",
        "                                               client2_model.get_weights(),\n",
        "                                               client3_model.get_weights(),\n",
        "                                               client4_model.get_weights(),\n",
        "                                               client5_model.get_weights(),\n",
        "                                               client6_model.get_weights(),\n",
        "                                               client7_model.get_weights(),\n",
        "                                               client8_model.get_weights())\n",
        "\n",
        "# Create global model and set weights\n",
        "global_model = create_client_model()\n",
        "global_model.set_weights(aggregated_weights)"
      ],
      "metadata": {
        "id": "wuPIy_KgbpZa"
      },
      "execution_count": null,
      "outputs": []
    },
    {
      "cell_type": "code",
      "source": [
        "# Evaluate global model\n",
        "test_loss, test_acc = global_model.evaluate(x_test, y_test, verbose=2)\n",
        "print('Test accuracy:', test_acc)\n",
        "\n",
        "predictions = global_model.predict(x_test)\n",
        "print(predictions.shape)\n",
        "\n",
        "predictions = list(predictions.argmax(axis=1))\n",
        "\n",
        "print(\"Accuracy test set: \", accuracy_score(y_test, predictions))\n",
        "\n",
        "print(\"Precision test set: \", precision_score(y_test, predictions, average = 'weighted' ))\n",
        "print(\"Recall test set: \", recall_score(y_test, predictions, average = 'weighted' ))\n",
        "print(\"F-score test set: \", f1_score(y_test, predictions, average = 'weighted' ))\n",
        "\n",
        "print(classification_report(y_test, predictions))"
      ],
      "metadata": {
        "colab": {
          "base_uri": "https://localhost:8080/"
        },
        "id": "Ugs8xTx_br2K",
        "outputId": "7a13c75e-14ce-4932-e4bf-4978438bbde2"
      },
      "execution_count": null,
      "outputs": [
        {
          "output_type": "stream",
          "name": "stdout",
          "text": [
            "313/313 - 1s - loss: 1.8618 - accuracy: 0.6131 - 1s/epoch - 3ms/step\n",
            "Test accuracy: 0.613099992275238\n",
            "313/313 [==============================] - 1s 2ms/step\n",
            "(10000, 10)\n",
            "Accuracy test set:  0.6131\n",
            "Precision test set:  0.7794261997113192\n",
            "Recall test set:  0.6131\n",
            "F-score test set:  0.5622667678899905\n",
            "              precision    recall  f1-score   support\n",
            "\n",
            "           0       0.99      0.23      0.37       980\n",
            "           1       0.98      0.84      0.90      1135\n",
            "           2       0.36      0.96      0.52      1032\n",
            "           3       0.76      0.76      0.76      1010\n",
            "           4       0.90      0.84      0.87       982\n",
            "           5       0.53      0.66      0.59       892\n",
            "           6       0.76      0.76      0.76       958\n",
            "           7       0.49      0.95      0.65      1028\n",
            "           8       1.00      0.08      0.15       974\n",
            "           9       1.00      0.01      0.01      1009\n",
            "\n",
            "    accuracy                           0.61     10000\n",
            "   macro avg       0.78      0.61      0.56     10000\n",
            "weighted avg       0.78      0.61      0.56     10000\n",
            "\n"
          ]
        }
      ]
    },
    {
      "cell_type": "code",
      "source": [
        "test_accuracy.append(0.613099992275238)\n",
        "test_precision.append(0.7794261997113192)\n",
        "test_recall.append(0.6131)\n",
        "test_f1_score.append(0.5622667678899905)\n",
        "\n",
        "print(test_accuracy)\n",
        "print(test_precision)\n",
        "print(test_recall)\n",
        "print(test_f1_score)"
      ],
      "metadata": {
        "colab": {
          "base_uri": "https://localhost:8080/"
        },
        "id": "r2JCTTKPcThj",
        "outputId": "d407c7e5-d7b3-4145-952a-93169c00b83d"
      },
      "execution_count": null,
      "outputs": [
        {
          "output_type": "stream",
          "name": "stdout",
          "text": [
            "[0.8652999997138977, 0.3984000086784363, 0.7756999731063843, 0.613099992275238]\n",
            "[0.8856584458216805, 0.36756040425356656, 0.8016136233957822, 0.7794261997113192]\n",
            "[0.8653, 0.3984, 0.7757, 0.6131]\n",
            "[0.8554286671379913, 0.36215371297003246, 0.7572420703248711, 0.5622667678899905]\n"
          ]
        }
      ]
    },
    {
      "cell_type": "code",
      "source": [],
      "metadata": {
        "id": "F1eYBQyxcr9q"
      },
      "execution_count": null,
      "outputs": []
    },
    {
      "cell_type": "markdown",
      "source": [
        "10 Clients\n"
      ],
      "metadata": {
        "id": "vUBnGRExdEFp"
      }
    },
    {
      "cell_type": "code",
      "source": [
        "Client_1 = (x_train[0:6000], y_train[0:6000])\n",
        "Client_2 = (x_train[6000:12000], y_train[6000:12000])\n",
        "Client_3 = (x_train[12000:18000], y_train[12000:18000])\n",
        "Client_4 = (x_train[18000:24000], y_train[18000:24000])\n",
        "Client_5 = (x_train[24000:30000], y_train[24000:30000])\n",
        "Client_6 = (x_train[30000:36000], y_train[30000:36000])\n",
        "Client_7 = (x_train[36000:42000], y_train[36000:42000])\n",
        "Client_8 = (x_train[42000:48000], y_train[42000:48000])\n",
        "Client_9 = (x_train[48000:54000], y_train[48000:54000])\n",
        "Client_10 = (x_train[54000:], y_train[54000:])\n",
        "\n",
        "print(Client_1[0].shape)\n",
        "print(Client_2[0].shape)\n",
        "print(Client_3[0].shape)\n",
        "print(Client_4[0].shape)\n",
        "print(Client_5[0].shape)\n",
        "print(Client_6[0].shape)\n",
        "print(Client_7[0].shape)\n",
        "print(Client_8[0].shape)\n",
        "print(Client_9[0].shape)\n",
        "print(Client_10[0].shape)\n",
        "\n",
        "print(Client_1[1].shape)\n",
        "print(Client_2[1].shape)\n",
        "print(Client_3[1].shape)\n",
        "print(Client_4[1].shape)\n",
        "print(Client_5[1].shape)\n",
        "print(Client_6[1].shape)\n",
        "print(Client_7[1].shape)\n",
        "print(Client_8[1].shape)\n",
        "print(Client_9[1].shape)\n",
        "print(Client_10[1].shape)\n",
        "\n",
        "# Create and train client models\n",
        "client1_model = create_client_model()\n",
        "client2_model = create_client_model()\n",
        "client3_model = create_client_model()\n",
        "client4_model = create_client_model()\n",
        "client5_model = create_client_model()\n",
        "client6_model = create_client_model()\n",
        "client7_model = create_client_model()\n",
        "client8_model = create_client_model()\n",
        "client9_model = create_client_model()\n",
        "client10_model = create_client_model()\n",
        "\n",
        "client1_model = train_client_model(client1_model, Client_1[0], Client_1[1])\n",
        "client2_model = train_client_model(client2_model, Client_2[0], Client_1[1])\n",
        "client3_model = train_client_model(client3_model, Client_3[0], Client_1[1])\n",
        "client4_model = train_client_model(client4_model, Client_4[0], Client_1[1])\n",
        "client5_model = train_client_model(client5_model, Client_5[0], Client_5[1])\n",
        "client6_model = train_client_model(client6_model, Client_6[0], Client_6[1])\n",
        "client7_model = train_client_model(client7_model, Client_7[0], Client_7[1])\n",
        "client8_model = train_client_model(client8_model, Client_8[0], Client_8[1])\n",
        "client9_model = train_client_model(client9_model, Client_9[0], Client_9[1])\n",
        "client10_model = train_client_model(client10_model, Client_10[0], Client_10[1])"
      ],
      "metadata": {
        "colab": {
          "base_uri": "https://localhost:8080/"
        },
        "id": "7RXU490ZdGD9",
        "outputId": "c03bfcfc-f17c-4129-f845-d930d92cd2f0"
      },
      "execution_count": null,
      "outputs": [
        {
          "output_type": "stream",
          "name": "stdout",
          "text": [
            "(6000, 28, 28, 1)\n",
            "(6000, 28, 28, 1)\n",
            "(6000, 28, 28, 1)\n",
            "(6000, 28, 28, 1)\n",
            "(6000, 28, 28, 1)\n",
            "(6000, 28, 28, 1)\n",
            "(6000, 28, 28, 1)\n",
            "(6000, 28, 28, 1)\n",
            "(6000, 28, 28, 1)\n",
            "(6000, 28, 28, 1)\n",
            "(6000,)\n",
            "(6000,)\n",
            "(6000,)\n",
            "(6000,)\n",
            "(6000,)\n",
            "(6000,)\n",
            "(6000,)\n",
            "(6000,)\n",
            "(6000,)\n",
            "(6000,)\n"
          ]
        }
      ]
    },
    {
      "cell_type": "code",
      "source": [
        "# Federated averaging\n",
        "def federated_average_weights(weights1, weights2, weights3, weights4, weights5,\n",
        "                              weights6, weights7, weights8, weights9, weights10):\n",
        "    new_weights = []\n",
        "    for w1, w2, w3, w4, w5, w6, w7, w8, w9, w10 in zip(weights1, weights2, weights3, weights4,\n",
        "                                                      weights5, weights6, weights7, weights8,\n",
        "                                                      weights9, weights10):\n",
        "        new_weights.append((w1 + w2 + w3 + w4 + w5 + w6 + w7 + w8 + w9 + w10) / 10)\n",
        "    return new_weights\n",
        "\n",
        "\n",
        "# Aggregate models\n",
        "aggregated_weights = federated_average_weights(client1_model.get_weights(),\n",
        "                                               client2_model.get_weights(),\n",
        "                                               client3_model.get_weights(),\n",
        "                                               client4_model.get_weights(),\n",
        "                                               client5_model.get_weights(),\n",
        "                                               client6_model.get_weights(),\n",
        "                                               client7_model.get_weights(),\n",
        "                                               client8_model.get_weights(),\n",
        "                                               client9_model.get_weights(),\n",
        "                                               client10_model.get_weights())\n",
        "\n",
        "# Create global model and set weights\n",
        "global_model = create_client_model()\n",
        "global_model.set_weights(aggregated_weights)"
      ],
      "metadata": {
        "id": "00g-zGSHdLbt"
      },
      "execution_count": null,
      "outputs": []
    },
    {
      "cell_type": "code",
      "source": [
        "# Evaluate global model\n",
        "test_loss, test_acc = global_model.evaluate(x_test, y_test, verbose=2)\n",
        "print('Test accuracy:', test_acc)\n",
        "\n",
        "predictions = global_model.predict(x_test)\n",
        "print(predictions.shape)\n",
        "\n",
        "predictions = list(predictions.argmax(axis=1))\n",
        "\n",
        "print(\"Accuracy test set: \", accuracy_score(y_test, predictions))\n",
        "\n",
        "print(\"Precision test set: \", precision_score(y_test, predictions, average = 'weighted' ))\n",
        "print(\"Recall test set: \", recall_score(y_test, predictions, average = 'weighted' ))\n",
        "print(\"F-score test set: \", f1_score(y_test, predictions, average = 'weighted' ))\n",
        "\n",
        "print(classification_report(y_test, predictions))"
      ],
      "metadata": {
        "colab": {
          "base_uri": "https://localhost:8080/"
        },
        "id": "q8sKKEXodQxH",
        "outputId": "2eb3be0b-1fda-4b48-cb3e-0702bdafe13e"
      },
      "execution_count": null,
      "outputs": [
        {
          "output_type": "stream",
          "name": "stdout",
          "text": [
            "313/313 - 1s - loss: 1.8302 - accuracy: 0.5868 - 701ms/epoch - 2ms/step\n",
            "Test accuracy: 0.5867999792098999\n",
            "313/313 [==============================] - 1s 2ms/step\n",
            "(10000, 10)\n",
            "Accuracy test set:  0.5868\n",
            "Precision test set:  0.7941117883669178\n",
            "Recall test set:  0.5868\n",
            "F-score test set:  0.5782532686256067\n",
            "              precision    recall  f1-score   support\n",
            "\n",
            "           0       0.98      0.51      0.67       980\n",
            "           1       1.00      0.33      0.50      1135\n",
            "           2       0.56      0.88      0.68      1032\n",
            "           3       0.83      0.35      0.49      1010\n",
            "           4       0.92      0.76      0.83       982\n",
            "           5       0.24      0.96      0.39       892\n",
            "           6       0.98      0.39      0.56       958\n",
            "           7       0.70      0.94      0.80      1028\n",
            "           8       0.83      0.02      0.03       974\n",
            "           9       0.84      0.77      0.80      1009\n",
            "\n",
            "    accuracy                           0.59     10000\n",
            "   macro avg       0.79      0.59      0.58     10000\n",
            "weighted avg       0.79      0.59      0.58     10000\n",
            "\n"
          ]
        }
      ]
    },
    {
      "cell_type": "code",
      "source": [
        "test_accuracy.append(0.5867999792098999)\n",
        "test_precision.append(0.7941117883669178)\n",
        "test_recall.append(0.5868)\n",
        "test_f1_score.append(0.5782532686256067)\n",
        "\n",
        "print(test_accuracy)\n",
        "print(test_precision)\n",
        "print(test_recall)\n",
        "print(test_f1_score)"
      ],
      "metadata": {
        "colab": {
          "base_uri": "https://localhost:8080/"
        },
        "id": "KSfr5blBdSv9",
        "outputId": "d6b844c4-5c2c-4dfd-d022-e9e675a80e70"
      },
      "execution_count": null,
      "outputs": [
        {
          "output_type": "stream",
          "name": "stdout",
          "text": [
            "[0.8652999997138977, 0.3984000086784363, 0.7756999731063843, 0.613099992275238, 0.5867999792098999]\n",
            "[0.8856584458216805, 0.36756040425356656, 0.8016136233957822, 0.7794261997113192, 0.7941117883669178]\n",
            "[0.8653, 0.3984, 0.7757, 0.6131, 0.5868]\n",
            "[0.8554286671379913, 0.36215371297003246, 0.7572420703248711, 0.5622667678899905, 0.5782532686256067]\n"
          ]
        }
      ]
    },
    {
      "cell_type": "markdown",
      "source": [
        "# Lab Logbook requirement: Document the following in lablogbook\n",
        "\n",
        "1. Plot the model's performance for the number of clients ranging from 2, 4, 6, 8, and 10.\n",
        "\n",
        "2. For any specified number of clients, compare the model's performance when one (or more) dishonest clients are present. Plot the performance metrics before and after the presence of dishonest clients.\n",
        "\n",
        "\n"
      ],
      "metadata": {
        "id": "aeKbFr6UHMPx"
      }
    },
    {
      "cell_type": "markdown",
      "source": [
        "Plot the model's performance for the number of clients ranging from 2, 4, 6, 8, and 10.\n"
      ],
      "metadata": {
        "id": "YmEcD2VUdcDA"
      }
    },
    {
      "cell_type": "code",
      "source": [
        "import pandas as pd"
      ],
      "metadata": {
        "id": "mdGMp6TDboeS"
      },
      "execution_count": null,
      "outputs": []
    },
    {
      "cell_type": "code",
      "source": [
        "ErrorMetrics = []\n",
        "ErrorMetrics.append(test_accuracy)\n",
        "ErrorMetrics.append(test_precision)\n",
        "ErrorMetrics.append(test_recall)\n",
        "ErrorMetrics.append(test_f1_score)\n",
        "\n",
        "print(ErrorMetrics)\n",
        "\n",
        "ErrorMetrics_pd = pd.DataFrame(ErrorMetrics)\n",
        "ErrorMetrics_pd.columns = [2,4,6,8,10]\n",
        "ErrorMetrics_pd = ErrorMetrics_pd.T\n",
        "ErrorMetrics_pd.columns = ['Accuracy','Precision','Recall','F1_Score']\n",
        "ErrorMetrics_pd"
      ],
      "metadata": {
        "colab": {
          "base_uri": "https://localhost:8080/",
          "height": 244
        },
        "id": "U8x-pkZBbGxt",
        "outputId": "aca9c34d-9491-4a84-ae02-a73aaf5e039b"
      },
      "execution_count": null,
      "outputs": [
        {
          "output_type": "stream",
          "name": "stdout",
          "text": [
            "[[0.8652999997138977, 0.3984000086784363, 0.7756999731063843, 0.613099992275238, 0.5867999792098999], [0.8856584458216805, 0.36756040425356656, 0.8016136233957822, 0.7794261997113192, 0.7941117883669178], [0.8653, 0.3984, 0.7757, 0.6131, 0.5868], [0.8554286671379913, 0.36215371297003246, 0.7572420703248711, 0.5622667678899905, 0.5782532686256067]]\n"
          ]
        },
        {
          "output_type": "execute_result",
          "data": {
            "text/plain": [
              "    Accuracy  Precision  Recall  F1_Score\n",
              "2     0.8653   0.885658  0.8653  0.855429\n",
              "4     0.3984   0.367560  0.3984  0.362154\n",
              "6     0.7757   0.801614  0.7757  0.757242\n",
              "8     0.6131   0.779426  0.6131  0.562267\n",
              "10    0.5868   0.794112  0.5868  0.578253"
            ],
            "text/html": [
              "\n",
              "  <div id=\"df-3aa131b0-cce0-4cc4-b4dc-a5af1ed74fa2\" class=\"colab-df-container\">\n",
              "    <div>\n",
              "<style scoped>\n",
              "    .dataframe tbody tr th:only-of-type {\n",
              "        vertical-align: middle;\n",
              "    }\n",
              "\n",
              "    .dataframe tbody tr th {\n",
              "        vertical-align: top;\n",
              "    }\n",
              "\n",
              "    .dataframe thead th {\n",
              "        text-align: right;\n",
              "    }\n",
              "</style>\n",
              "<table border=\"1\" class=\"dataframe\">\n",
              "  <thead>\n",
              "    <tr style=\"text-align: right;\">\n",
              "      <th></th>\n",
              "      <th>Accuracy</th>\n",
              "      <th>Precision</th>\n",
              "      <th>Recall</th>\n",
              "      <th>F1_Score</th>\n",
              "    </tr>\n",
              "  </thead>\n",
              "  <tbody>\n",
              "    <tr>\n",
              "      <th>2</th>\n",
              "      <td>0.8653</td>\n",
              "      <td>0.885658</td>\n",
              "      <td>0.8653</td>\n",
              "      <td>0.855429</td>\n",
              "    </tr>\n",
              "    <tr>\n",
              "      <th>4</th>\n",
              "      <td>0.3984</td>\n",
              "      <td>0.367560</td>\n",
              "      <td>0.3984</td>\n",
              "      <td>0.362154</td>\n",
              "    </tr>\n",
              "    <tr>\n",
              "      <th>6</th>\n",
              "      <td>0.7757</td>\n",
              "      <td>0.801614</td>\n",
              "      <td>0.7757</td>\n",
              "      <td>0.757242</td>\n",
              "    </tr>\n",
              "    <tr>\n",
              "      <th>8</th>\n",
              "      <td>0.6131</td>\n",
              "      <td>0.779426</td>\n",
              "      <td>0.6131</td>\n",
              "      <td>0.562267</td>\n",
              "    </tr>\n",
              "    <tr>\n",
              "      <th>10</th>\n",
              "      <td>0.5868</td>\n",
              "      <td>0.794112</td>\n",
              "      <td>0.5868</td>\n",
              "      <td>0.578253</td>\n",
              "    </tr>\n",
              "  </tbody>\n",
              "</table>\n",
              "</div>\n",
              "    <div class=\"colab-df-buttons\">\n",
              "\n",
              "  <div class=\"colab-df-container\">\n",
              "    <button class=\"colab-df-convert\" onclick=\"convertToInteractive('df-3aa131b0-cce0-4cc4-b4dc-a5af1ed74fa2')\"\n",
              "            title=\"Convert this dataframe to an interactive table.\"\n",
              "            style=\"display:none;\">\n",
              "\n",
              "  <svg xmlns=\"http://www.w3.org/2000/svg\" height=\"24px\" viewBox=\"0 -960 960 960\">\n",
              "    <path d=\"M120-120v-720h720v720H120Zm60-500h600v-160H180v160Zm220 220h160v-160H400v160Zm0 220h160v-160H400v160ZM180-400h160v-160H180v160Zm440 0h160v-160H620v160ZM180-180h160v-160H180v160Zm440 0h160v-160H620v160Z\"/>\n",
              "  </svg>\n",
              "    </button>\n",
              "\n",
              "  <style>\n",
              "    .colab-df-container {\n",
              "      display:flex;\n",
              "      gap: 12px;\n",
              "    }\n",
              "\n",
              "    .colab-df-convert {\n",
              "      background-color: #E8F0FE;\n",
              "      border: none;\n",
              "      border-radius: 50%;\n",
              "      cursor: pointer;\n",
              "      display: none;\n",
              "      fill: #1967D2;\n",
              "      height: 32px;\n",
              "      padding: 0 0 0 0;\n",
              "      width: 32px;\n",
              "    }\n",
              "\n",
              "    .colab-df-convert:hover {\n",
              "      background-color: #E2EBFA;\n",
              "      box-shadow: 0px 1px 2px rgba(60, 64, 67, 0.3), 0px 1px 3px 1px rgba(60, 64, 67, 0.15);\n",
              "      fill: #174EA6;\n",
              "    }\n",
              "\n",
              "    .colab-df-buttons div {\n",
              "      margin-bottom: 4px;\n",
              "    }\n",
              "\n",
              "    [theme=dark] .colab-df-convert {\n",
              "      background-color: #3B4455;\n",
              "      fill: #D2E3FC;\n",
              "    }\n",
              "\n",
              "    [theme=dark] .colab-df-convert:hover {\n",
              "      background-color: #434B5C;\n",
              "      box-shadow: 0px 1px 3px 1px rgba(0, 0, 0, 0.15);\n",
              "      filter: drop-shadow(0px 1px 2px rgba(0, 0, 0, 0.3));\n",
              "      fill: #FFFFFF;\n",
              "    }\n",
              "  </style>\n",
              "\n",
              "    <script>\n",
              "      const buttonEl =\n",
              "        document.querySelector('#df-3aa131b0-cce0-4cc4-b4dc-a5af1ed74fa2 button.colab-df-convert');\n",
              "      buttonEl.style.display =\n",
              "        google.colab.kernel.accessAllowed ? 'block' : 'none';\n",
              "\n",
              "      async function convertToInteractive(key) {\n",
              "        const element = document.querySelector('#df-3aa131b0-cce0-4cc4-b4dc-a5af1ed74fa2');\n",
              "        const dataTable =\n",
              "          await google.colab.kernel.invokeFunction('convertToInteractive',\n",
              "                                                    [key], {});\n",
              "        if (!dataTable) return;\n",
              "\n",
              "        const docLinkHtml = 'Like what you see? Visit the ' +\n",
              "          '<a target=\"_blank\" href=https://colab.research.google.com/notebooks/data_table.ipynb>data table notebook</a>'\n",
              "          + ' to learn more about interactive tables.';\n",
              "        element.innerHTML = '';\n",
              "        dataTable['output_type'] = 'display_data';\n",
              "        await google.colab.output.renderOutput(dataTable, element);\n",
              "        const docLink = document.createElement('div');\n",
              "        docLink.innerHTML = docLinkHtml;\n",
              "        element.appendChild(docLink);\n",
              "      }\n",
              "    </script>\n",
              "  </div>\n",
              "\n",
              "\n",
              "<div id=\"df-a1ce7b3d-bcc5-45a6-b557-3603a2d42f75\">\n",
              "  <button class=\"colab-df-quickchart\" onclick=\"quickchart('df-a1ce7b3d-bcc5-45a6-b557-3603a2d42f75')\"\n",
              "            title=\"Suggest charts\"\n",
              "            style=\"display:none;\">\n",
              "\n",
              "<svg xmlns=\"http://www.w3.org/2000/svg\" height=\"24px\"viewBox=\"0 0 24 24\"\n",
              "     width=\"24px\">\n",
              "    <g>\n",
              "        <path d=\"M19 3H5c-1.1 0-2 .9-2 2v14c0 1.1.9 2 2 2h14c1.1 0 2-.9 2-2V5c0-1.1-.9-2-2-2zM9 17H7v-7h2v7zm4 0h-2V7h2v10zm4 0h-2v-4h2v4z\"/>\n",
              "    </g>\n",
              "</svg>\n",
              "  </button>\n",
              "\n",
              "<style>\n",
              "  .colab-df-quickchart {\n",
              "      --bg-color: #E8F0FE;\n",
              "      --fill-color: #1967D2;\n",
              "      --hover-bg-color: #E2EBFA;\n",
              "      --hover-fill-color: #174EA6;\n",
              "      --disabled-fill-color: #AAA;\n",
              "      --disabled-bg-color: #DDD;\n",
              "  }\n",
              "\n",
              "  [theme=dark] .colab-df-quickchart {\n",
              "      --bg-color: #3B4455;\n",
              "      --fill-color: #D2E3FC;\n",
              "      --hover-bg-color: #434B5C;\n",
              "      --hover-fill-color: #FFFFFF;\n",
              "      --disabled-bg-color: #3B4455;\n",
              "      --disabled-fill-color: #666;\n",
              "  }\n",
              "\n",
              "  .colab-df-quickchart {\n",
              "    background-color: var(--bg-color);\n",
              "    border: none;\n",
              "    border-radius: 50%;\n",
              "    cursor: pointer;\n",
              "    display: none;\n",
              "    fill: var(--fill-color);\n",
              "    height: 32px;\n",
              "    padding: 0;\n",
              "    width: 32px;\n",
              "  }\n",
              "\n",
              "  .colab-df-quickchart:hover {\n",
              "    background-color: var(--hover-bg-color);\n",
              "    box-shadow: 0 1px 2px rgba(60, 64, 67, 0.3), 0 1px 3px 1px rgba(60, 64, 67, 0.15);\n",
              "    fill: var(--button-hover-fill-color);\n",
              "  }\n",
              "\n",
              "  .colab-df-quickchart-complete:disabled,\n",
              "  .colab-df-quickchart-complete:disabled:hover {\n",
              "    background-color: var(--disabled-bg-color);\n",
              "    fill: var(--disabled-fill-color);\n",
              "    box-shadow: none;\n",
              "  }\n",
              "\n",
              "  .colab-df-spinner {\n",
              "    border: 2px solid var(--fill-color);\n",
              "    border-color: transparent;\n",
              "    border-bottom-color: var(--fill-color);\n",
              "    animation:\n",
              "      spin 1s steps(1) infinite;\n",
              "  }\n",
              "\n",
              "  @keyframes spin {\n",
              "    0% {\n",
              "      border-color: transparent;\n",
              "      border-bottom-color: var(--fill-color);\n",
              "      border-left-color: var(--fill-color);\n",
              "    }\n",
              "    20% {\n",
              "      border-color: transparent;\n",
              "      border-left-color: var(--fill-color);\n",
              "      border-top-color: var(--fill-color);\n",
              "    }\n",
              "    30% {\n",
              "      border-color: transparent;\n",
              "      border-left-color: var(--fill-color);\n",
              "      border-top-color: var(--fill-color);\n",
              "      border-right-color: var(--fill-color);\n",
              "    }\n",
              "    40% {\n",
              "      border-color: transparent;\n",
              "      border-right-color: var(--fill-color);\n",
              "      border-top-color: var(--fill-color);\n",
              "    }\n",
              "    60% {\n",
              "      border-color: transparent;\n",
              "      border-right-color: var(--fill-color);\n",
              "    }\n",
              "    80% {\n",
              "      border-color: transparent;\n",
              "      border-right-color: var(--fill-color);\n",
              "      border-bottom-color: var(--fill-color);\n",
              "    }\n",
              "    90% {\n",
              "      border-color: transparent;\n",
              "      border-bottom-color: var(--fill-color);\n",
              "    }\n",
              "  }\n",
              "</style>\n",
              "\n",
              "  <script>\n",
              "    async function quickchart(key) {\n",
              "      const quickchartButtonEl =\n",
              "        document.querySelector('#' + key + ' button');\n",
              "      quickchartButtonEl.disabled = true;  // To prevent multiple clicks.\n",
              "      quickchartButtonEl.classList.add('colab-df-spinner');\n",
              "      try {\n",
              "        const charts = await google.colab.kernel.invokeFunction(\n",
              "            'suggestCharts', [key], {});\n",
              "      } catch (error) {\n",
              "        console.error('Error during call to suggestCharts:', error);\n",
              "      }\n",
              "      quickchartButtonEl.classList.remove('colab-df-spinner');\n",
              "      quickchartButtonEl.classList.add('colab-df-quickchart-complete');\n",
              "    }\n",
              "    (() => {\n",
              "      let quickchartButtonEl =\n",
              "        document.querySelector('#df-a1ce7b3d-bcc5-45a6-b557-3603a2d42f75 button');\n",
              "      quickchartButtonEl.style.display =\n",
              "        google.colab.kernel.accessAllowed ? 'block' : 'none';\n",
              "    })();\n",
              "  </script>\n",
              "</div>\n",
              "    </div>\n",
              "  </div>\n"
            ],
            "application/vnd.google.colaboratory.intrinsic+json": {
              "type": "dataframe",
              "variable_name": "ErrorMetrics_pd",
              "summary": "{\n  \"name\": \"ErrorMetrics_pd\",\n  \"rows\": 5,\n  \"fields\": [\n    {\n      \"column\": \"Accuracy\",\n      \"properties\": {\n        \"dtype\": \"number\",\n        \"std\": 0.18082455844373577,\n        \"min\": 0.3984000086784363,\n        \"max\": 0.8652999997138977,\n        \"num_unique_values\": 5,\n        \"samples\": [\n          0.3984000086784363,\n          0.5867999792098999,\n          0.7756999731063843\n        ],\n        \"semantic_type\": \"\",\n        \"description\": \"\"\n      }\n    },\n    {\n      \"column\": \"Precision\",\n      \"properties\": {\n        \"dtype\": \"number\",\n        \"std\": 0.204438393296808,\n        \"min\": 0.36756040425356656,\n        \"max\": 0.8856584458216805,\n        \"num_unique_values\": 5,\n        \"samples\": [\n          0.36756040425356656,\n          0.7941117883669178,\n          0.8016136233957822\n        ],\n        \"semantic_type\": \"\",\n        \"description\": \"\"\n      }\n    },\n    {\n      \"column\": \"Recall\",\n      \"properties\": {\n        \"dtype\": \"number\",\n        \"std\": 0.1808245641498964,\n        \"min\": 0.3984,\n        \"max\": 0.8653,\n        \"num_unique_values\": 5,\n        \"samples\": [\n          0.3984,\n          0.5868,\n          0.7757\n        ],\n        \"semantic_type\": \"\",\n        \"description\": \"\"\n      }\n    },\n    {\n      \"column\": \"F1_Score\",\n      \"properties\": {\n        \"dtype\": \"number\",\n        \"std\": 0.19090283911386696,\n        \"min\": 0.36215371297003246,\n        \"max\": 0.8554286671379913,\n        \"num_unique_values\": 5,\n        \"samples\": [\n          0.36215371297003246,\n          0.5782532686256067,\n          0.7572420703248711\n        ],\n        \"semantic_type\": \"\",\n        \"description\": \"\"\n      }\n    }\n  ]\n}"
            }
          },
          "metadata": {},
          "execution_count": 54
        }
      ]
    },
    {
      "cell_type": "code",
      "source": [],
      "metadata": {
        "id": "T9hWTp3DaYZu"
      },
      "execution_count": null,
      "outputs": []
    },
    {
      "cell_type": "code",
      "source": [
        "import matplotlib.pyplot as plt\n",
        "\n",
        "# Assuming ErrorMetrics_pd is a pandas DataFrame containing error metrics data\n",
        "ErrorMetrics_pd.plot(kind='bar')\n",
        "plt.xlabel('Metrics')\n",
        "plt.ylabel('Values')\n",
        "plt.title('Error Metrics')\n",
        "plt.xticks(rotation=0)  # Rotate x-axis labels if needed\n",
        "plt.show()\n"
      ],
      "metadata": {
        "colab": {
          "base_uri": "https://localhost:8080/",
          "height": 472
        },
        "id": "ReLvac2bZ46D",
        "outputId": "67b0877f-9a22-4e25-9676-66560cbfef19"
      },
      "execution_count": null,
      "outputs": [
        {
          "output_type": "display_data",
          "data": {
            "text/plain": [
              "<Figure size 640x480 with 1 Axes>"
            ],
            "image/png": "[encoded data removed]"
          },
          "metadata": {}
        }
      ]
    },
    {
      "cell_type": "markdown",
      "source": [
        "For any specified number of clients, compare the model's performance when one (or more) dishonest clients are present. Plot the performance metrics before and after the presence of dishonest clients.\n"
      ],
      "metadata": {
        "id": "1OFHjhsRff5I"
      }
    },
    {
      "cell_type": "code",
      "source": [
        "#Take 4 Clients, one of them is assumed dishonest\n",
        "\n",
        "# Split data into 4 clients\n",
        "# Create and train client models\n",
        "Client_1 = (x_train[0:15000], y_train[0:15000])\n",
        "Client_2 = (x_train[15000:30000], y_train[15000:30000])\n",
        "Client_3 = (x_train[30000:45000], y_train[30000:45000])\n",
        "Client_4 = (x_train[45000:], y_train[45000:])"
      ],
      "metadata": {
        "id": "23QnI2-RfhZQ"
      },
      "execution_count": null,
      "outputs": []
    },
    {
      "cell_type": "code",
      "source": [
        "Client_2[1].size"
      ],
      "metadata": {
        "colab": {
          "base_uri": "https://localhost:8080/"
        },
        "id": "WxlEohpqgcLQ",
        "outputId": "8fce58c3-8d24-4c88-cdc2-a11f3b717168"
      },
      "execution_count": null,
      "outputs": [
        {
          "output_type": "execute_result",
          "data": {
            "text/plain": [
              "15000"
            ]
          },
          "metadata": {},
          "execution_count": 74
        }
      ]
    },
    {
      "cell_type": "code",
      "source": [
        "Client_2[1]"
      ],
      "metadata": {
        "colab": {
          "base_uri": "https://localhost:8080/"
        },
        "id": "CEYch69Ugf7u",
        "outputId": "24cedd87-af10-411f-9f19-80d376b2816d"
      },
      "execution_count": null,
      "outputs": [
        {
          "output_type": "execute_result",
          "data": {
            "text/plain": [
              "array([5, 1, 1, ..., 6, 7, 1], dtype=uint8)"
            ]
          },
          "metadata": {},
          "execution_count": 75
        }
      ]
    },
    {
      "cell_type": "code",
      "source": [
        "### Client_2 is assumed dishonest and changing the training data. Some labels are set as 4\n",
        "### Change the first 2000 labels\n",
        "\n",
        "Client_2[1][:2000] = 3"
      ],
      "metadata": {
        "id": "zZ9sLKi5IiDN"
      },
      "execution_count": null,
      "outputs": []
    },
    {
      "cell_type": "code",
      "source": [
        "print(Client_1[0].shape)\n",
        "print(Client_2[0].shape)\n",
        "print(Client_3[0].shape)\n",
        "print(Client_4[0].shape)\n",
        "\n",
        "print(Client_1[1].shape)\n",
        "print(Client_2[1].shape)\n",
        "print(Client_3[1].shape)\n",
        "print(Client_4[1].shape)\n"
      ],
      "metadata": {
        "colab": {
          "base_uri": "https://localhost:8080/"
        },
        "id": "Q9_dU3Tyglxp",
        "outputId": "08e87338-cb8c-45da-ca85-96550f3d55f3"
      },
      "execution_count": null,
      "outputs": [
        {
          "output_type": "stream",
          "name": "stdout",
          "text": [
            "(15000, 28, 28, 1)\n",
            "(15000, 28, 28, 1)\n",
            "(15000, 28, 28, 1)\n",
            "(15000, 28, 28, 1)\n",
            "(15000,)\n",
            "(15000,)\n",
            "(15000,)\n",
            "(15000,)\n"
          ]
        }
      ]
    },
    {
      "cell_type": "code",
      "source": [
        "# Create and train client models\n",
        "client1_model = create_client_model()\n",
        "client2_model = create_client_model()\n",
        "client3_model = create_client_model()\n",
        "client4_model = create_client_model()\n",
        "\n",
        "client1_model = train_client_model(client1_model, Client_1[0], Client_1[1])\n",
        "client2_model = train_client_model(client2_model, Client_2[0], Client_1[1])\n",
        "client3_model = train_client_model(client3_model, Client_3[0], Client_1[1])\n",
        "client4_model = train_client_model(client4_model, Client_4[0], Client_1[1])"
      ],
      "metadata": {
        "id": "E-3oQcwUgqni"
      },
      "execution_count": null,
      "outputs": []
    },
    {
      "cell_type": "code",
      "source": [
        "# Federated averaging\n",
        "def federated_average_weights(weights1, weights2, weights3, weights4):\n",
        "    new_weights = []\n",
        "    for w1, w2, w3, w4 in zip(weights1, weights2, weights3, weights4):\n",
        "        new_weights.append((w1 + w2 + w3 + w4) / 4)\n",
        "    return new_weights\n",
        "\n",
        "\n",
        "# Aggregate models\n",
        "aggregated_weights = federated_average_weights(client1_model.get_weights(),\n",
        "                                               client2_model.get_weights(),\n",
        "                                               client3_model.get_weights(),\n",
        "                                               client4_model.get_weights())\n",
        "\n",
        "# Create global model and set weights\n",
        "global_model = create_client_model()\n",
        "global_model.set_weights(aggregated_weights)"
      ],
      "metadata": {
        "id": "Y05a5ctCguyw"
      },
      "execution_count": null,
      "outputs": []
    },
    {
      "cell_type": "code",
      "source": [
        "# Evaluate global model\n",
        "test_loss, test_acc = global_model.evaluate(x_test, y_test, verbose=2)\n",
        "print('Test accuracy:', test_acc)\n",
        "\n",
        "predictions = global_model.predict(x_test)\n",
        "print(predictions.shape)\n",
        "\n",
        "predictions = list(predictions.argmax(axis=1))\n",
        "\n",
        "print(\"Accuracy test set: \", accuracy_score(y_test, predictions))\n",
        "\n",
        "print(\"Precision test set: \", precision_score(y_test, predictions, average = 'weighted' ))\n",
        "print(\"Recall test set: \", recall_score(y_test, predictions, average = 'weighted' ))\n",
        "print(\"F-score test set: \", f1_score(y_test, predictions, average = 'weighted' ))\n",
        "\n",
        "print(classification_report(y_test, predictions))"
      ],
      "metadata": {
        "colab": {
          "base_uri": "https://localhost:8080/"
        },
        "id": "KXcr6DcsgxjK",
        "outputId": "30d7403d-7471-4704-f2e6-8979a81c4721"
      },
      "execution_count": null,
      "outputs": [
        {
          "output_type": "stream",
          "name": "stdout",
          "text": [
            "313/313 - 1s - loss: 2.2711 - accuracy: 0.1009 - 696ms/epoch - 2ms/step\n",
            "Test accuracy: 0.10090000182390213\n",
            "313/313 [==============================] - 1s 2ms/step\n",
            "(10000, 10)\n",
            "Accuracy test set:  0.1009\n",
            "Precision test set:  0.29096004180672663\n",
            "Recall test set:  0.1009\n",
            "F-score test set:  0.03971524584975824\n",
            "              precision    recall  f1-score   support\n",
            "\n",
            "           0       0.38      0.02      0.03       980\n",
            "           1       0.00      0.00      0.00      1135\n",
            "           2       0.46      0.01      0.02      1032\n",
            "           3       0.71      0.01      0.02      1010\n",
            "           4       0.29      0.00      0.01       982\n",
            "           5       0.09      0.96      0.17       892\n",
            "           6       0.14      0.00      0.00       958\n",
            "           7       0.31      0.10      0.15      1028\n",
            "           8       0.38      0.01      0.01       974\n",
            "           9       0.14      0.00      0.01      1009\n",
            "\n",
            "    accuracy                           0.10     10000\n",
            "   macro avg       0.29      0.11      0.04     10000\n",
            "weighted avg       0.29      0.10      0.04     10000\n",
            "\n"
          ]
        }
      ]
    },
    {
      "cell_type": "code",
      "source": [
        "test_accuracy_dishonest  = []\n",
        "test_precision_dishonest = []\n",
        "test_recall_dishonest    = []\n",
        "test_f1_score_dishonest  = []"
      ],
      "metadata": {
        "id": "_Vd2s9Pvg0LU"
      },
      "execution_count": null,
      "outputs": []
    },
    {
      "cell_type": "code",
      "source": [
        "test_accuracy_dishonest.append(test_accuracy[1])\n",
        "test_precision_dishonest.append(test_precision[1])\n",
        "test_recall_dishonest.append(test_recall[1])\n",
        "test_f1_score_dishonest.append(test_f1_score[1])\n",
        "\n",
        "test_accuracy_dishonest.append(0.10090000182390213)\n",
        "test_precision_dishonest.append(0.29096004180672663)\n",
        "test_recall_dishonest.append(0.1009)\n",
        "test_f1_score_dishonest.append(0.03971524584975824)\n",
        "\n",
        "print(test_accuracy_dishonest)\n",
        "print(test_precision_dishonest)\n",
        "print(test_recall_dishonest)\n",
        "print(test_f1_score_dishonest)"
      ],
      "metadata": {
        "colab": {
          "base_uri": "https://localhost:8080/"
        },
        "id": "gCZ0hUQQg2uo",
        "outputId": "0e92e303-c697-40ff-8c42-b78634251dae"
      },
      "execution_count": null,
      "outputs": [
        {
          "output_type": "stream",
          "name": "stdout",
          "text": [
            "[0.3984000086784363, 0.10090000182390213]\n",
            "[0.36756040425356656, 0.29096004180672663]\n",
            "[0.3984, 0.1009]\n",
            "[0.36215371297003246, 0.03971524584975824]\n"
          ]
        }
      ]
    },
    {
      "cell_type": "code",
      "source": [
        "### Plot the model's performance for the 6 clients, one of them (number=2) is dishonest\n",
        "\n",
        "ErrorMetrics = []\n",
        "ErrorMetrics.append(test_accuracy_dishonest)\n",
        "ErrorMetrics.append(test_precision_dishonest)\n",
        "ErrorMetrics.append(test_recall_dishonest)\n",
        "ErrorMetrics.append(test_f1_score_dishonest)\n",
        "\n",
        "print(ErrorMetrics)\n",
        "\n",
        "ErrorMetrics_pd = pd.DataFrame(ErrorMetrics)\n",
        "ErrorMetrics_pd.columns = ['All are honest', '#2 is dishonest']\n",
        "ErrorMetrics_pd = ErrorMetrics_pd.T\n",
        "ErrorMetrics_pd.columns = ['Accuracy','Precision','Recall','F1_Score']\n",
        "ErrorMetrics_pd"
      ],
      "metadata": {
        "colab": {
          "base_uri": "https://localhost:8080/",
          "height": 129
        },
        "id": "LYCvQEHig5E5",
        "outputId": "5aca253f-4c78-4b12-97df-1530de8baf77"
      },
      "execution_count": null,
      "outputs": [
        {
          "output_type": "stream",
          "name": "stdout",
          "text": [
            "[[0.3984000086784363, 0.10090000182390213], [0.36756040425356656, 0.29096004180672663], [0.3984, 0.1009], [0.36215371297003246, 0.03971524584975824]]\n"
          ]
        },
        {
          "output_type": "execute_result",
          "data": {
            "text/plain": [
              "                 Accuracy  Precision  Recall  F1_Score\n",
              "All are honest     0.3984    0.36756  0.3984  0.362154\n",
              "#2 is dishonest    0.1009    0.29096  0.1009  0.039715"
            ],
            "text/html": [
              "\n",
              "  <div id=\"df-49333d0b-1321-4ce1-b1f5-80018fade011\" class=\"colab-df-container\">\n",
              "    <div>\n",
              "<style scoped>\n",
              "    .dataframe tbody tr th:only-of-type {\n",
              "        vertical-align: middle;\n",
              "    }\n",
              "\n",
              "    .dataframe tbody tr th {\n",
              "        vertical-align: top;\n",
              "    }\n",
              "\n",
              "    .dataframe thead th {\n",
              "        text-align: right;\n",
              "    }\n",
              "</style>\n",
              "<table border=\"1\" class=\"dataframe\">\n",
              "  <thead>\n",
              "    <tr style=\"text-align: right;\">\n",
              "      <th></th>\n",
              "      <th>Accuracy</th>\n",
              "      <th>Precision</th>\n",
              "      <th>Recall</th>\n",
              "      <th>F1_Score</th>\n",
              "    </tr>\n",
              "  </thead>\n",
              "  <tbody>\n",
              "    <tr>\n",
              "      <th>All are honest</th>\n",
              "      <td>0.3984</td>\n",
              "      <td>0.36756</td>\n",
              "      <td>0.3984</td>\n",
              "      <td>0.362154</td>\n",
              "    </tr>\n",
              "    <tr>\n",
              "      <th>#2 is dishonest</th>\n",
              "      <td>0.1009</td>\n",
              "      <td>0.29096</td>\n",
              "      <td>0.1009</td>\n",
              "      <td>0.039715</td>\n",
              "    </tr>\n",
              "  </tbody>\n",
              "</table>\n",
              "</div>\n",
              "    <div class=\"colab-df-buttons\">\n",
              "\n",
              "  <div class=\"colab-df-container\">\n",
              "    <button class=\"colab-df-convert\" onclick=\"convertToInteractive('df-49333d0b-1321-4ce1-b1f5-80018fade011')\"\n",
              "            title=\"Convert this dataframe to an interactive table.\"\n",
              "            style=\"display:none;\">\n",
              "\n",
              "  <svg xmlns=\"http://www.w3.org/2000/svg\" height=\"24px\" viewBox=\"0 -960 960 960\">\n",
              "    <path d=\"M120-120v-720h720v720H120Zm60-500h600v-160H180v160Zm220 220h160v-160H400v160Zm0 220h160v-160H400v160ZM180-400h160v-160H180v160Zm440 0h160v-160H620v160ZM180-180h160v-160H180v160Zm440 0h160v-160H620v160Z\"/>\n",
              "  </svg>\n",
              "    </button>\n",
              "\n",
              "  <style>\n",
              "    .colab-df-container {\n",
              "      display:flex;\n",
              "      gap: 12px;\n",
              "    }\n",
              "\n",
              "    .colab-df-convert {\n",
              "      background-color: #E8F0FE;\n",
              "      border: none;\n",
              "      border-radius: 50%;\n",
              "      cursor: pointer;\n",
              "      display: none;\n",
              "      fill: #1967D2;\n",
              "      height: 32px;\n",
              "      padding: 0 0 0 0;\n",
              "      width: 32px;\n",
              "    }\n",
              "\n",
              "    .colab-df-convert:hover {\n",
              "      background-color: #E2EBFA;\n",
              "      box-shadow: 0px 1px 2px rgba(60, 64, 67, 0.3), 0px 1px 3px 1px rgba(60, 64, 67, 0.15);\n",
              "      fill: #174EA6;\n",
              "    }\n",
              "\n",
              "    .colab-df-buttons div {\n",
              "      margin-bottom: 4px;\n",
              "    }\n",
              "\n",
              "    [theme=dark] .colab-df-convert {\n",
              "      background-color: #3B4455;\n",
              "      fill: #D2E3FC;\n",
              "    }\n",
              "\n",
              "    [theme=dark] .colab-df-convert:hover {\n",
              "      background-color: #434B5C;\n",
              "      box-shadow: 0px 1px 3px 1px rgba(0, 0, 0, 0.15);\n",
              "      filter: drop-shadow(0px 1px 2px rgba(0, 0, 0, 0.3));\n",
              "      fill: #FFFFFF;\n",
              "    }\n",
              "  </style>\n",
              "\n",
              "    <script>\n",
              "      const buttonEl =\n",
              "        document.querySelector('#df-49333d0b-1321-4ce1-b1f5-80018fade011 button.colab-df-convert');\n",
              "      buttonEl.style.display =\n",
              "        google.colab.kernel.accessAllowed ? 'block' : 'none';\n",
              "\n",
              "      async function convertToInteractive(key) {\n",
              "        const element = document.querySelector('#df-49333d0b-1321-4ce1-b1f5-80018fade011');\n",
              "        const dataTable =\n",
              "          await google.colab.kernel.invokeFunction('convertToInteractive',\n",
              "                                                    [key], {});\n",
              "        if (!dataTable) return;\n",
              "\n",
              "        const docLinkHtml = 'Like what you see? Visit the ' +\n",
              "          '<a target=\"_blank\" href=https://colab.research.google.com/notebooks/data_table.ipynb>data table notebook</a>'\n",
              "          + ' to learn more about interactive tables.';\n",
              "        element.innerHTML = '';\n",
              "        dataTable['output_type'] = 'display_data';\n",
              "        await google.colab.output.renderOutput(dataTable, element);\n",
              "        const docLink = document.createElement('div');\n",
              "        docLink.innerHTML = docLinkHtml;\n",
              "        element.appendChild(docLink);\n",
              "      }\n",
              "    </script>\n",
              "  </div>\n",
              "\n",
              "\n",
              "<div id=\"df-f24927c4-a6f0-4b6c-b11e-6608cf532d8d\">\n",
              "  <button class=\"colab-df-quickchart\" onclick=\"quickchart('df-f24927c4-a6f0-4b6c-b11e-6608cf532d8d')\"\n",
              "            title=\"Suggest charts\"\n",
              "            style=\"display:none;\">\n",
              "\n",
              "<svg xmlns=\"http://www.w3.org/2000/svg\" height=\"24px\"viewBox=\"0 0 24 24\"\n",
              "     width=\"24px\">\n",
              "    <g>\n",
              "        <path d=\"M19 3H5c-1.1 0-2 .9-2 2v14c0 1.1.9 2 2 2h14c1.1 0 2-.9 2-2V5c0-1.1-.9-2-2-2zM9 17H7v-7h2v7zm4 0h-2V7h2v10zm4 0h-2v-4h2v4z\"/>\n",
              "    </g>\n",
              "</svg>\n",
              "  </button>\n",
              "\n",
              "<style>\n",
              "  .colab-df-quickchart {\n",
              "      --bg-color: #E8F0FE;\n",
              "      --fill-color: #1967D2;\n",
              "      --hover-bg-color: #E2EBFA;\n",
              "      --hover-fill-color: #174EA6;\n",
              "      --disabled-fill-color: #AAA;\n",
              "      --disabled-bg-color: #DDD;\n",
              "  }\n",
              "\n",
              "  [theme=dark] .colab-df-quickchart {\n",
              "      --bg-color: #3B4455;\n",
              "      --fill-color: #D2E3FC;\n",
              "      --hover-bg-color: #434B5C;\n",
              "      --hover-fill-color: #FFFFFF;\n",
              "      --disabled-bg-color: #3B4455;\n",
              "      --disabled-fill-color: #666;\n",
              "  }\n",
              "\n",
              "  .colab-df-quickchart {\n",
              "    background-color: var(--bg-color);\n",
              "    border: none;\n",
              "    border-radius: 50%;\n",
              "    cursor: pointer;\n",
              "    display: none;\n",
              "    fill: var(--fill-color);\n",
              "    height: 32px;\n",
              "    padding: 0;\n",
              "    width: 32px;\n",
              "  }\n",
              "\n",
              "  .colab-df-quickchart:hover {\n",
              "    background-color: var(--hover-bg-color);\n",
              "    box-shadow: 0 1px 2px rgba(60, 64, 67, 0.3), 0 1px 3px 1px rgba(60, 64, 67, 0.15);\n",
              "    fill: var(--button-hover-fill-color);\n",
              "  }\n",
              "\n",
              "  .colab-df-quickchart-complete:disabled,\n",
              "  .colab-df-quickchart-complete:disabled:hover {\n",
              "    background-color: var(--disabled-bg-color);\n",
              "    fill: var(--disabled-fill-color);\n",
              "    box-shadow: none;\n",
              "  }\n",
              "\n",
              "  .colab-df-spinner {\n",
              "    border: 2px solid var(--fill-color);\n",
              "    border-color: transparent;\n",
              "    border-bottom-color: var(--fill-color);\n",
              "    animation:\n",
              "      spin 1s steps(1) infinite;\n",
              "  }\n",
              "\n",
              "  @keyframes spin {\n",
              "    0% {\n",
              "      border-color: transparent;\n",
              "      border-bottom-color: var(--fill-color);\n",
              "      border-left-color: var(--fill-color);\n",
              "    }\n",
              "    20% {\n",
              "      border-color: transparent;\n",
              "      border-left-color: var(--fill-color);\n",
              "      border-top-color: var(--fill-color);\n",
              "    }\n",
              "    30% {\n",
              "      border-color: transparent;\n",
              "      border-left-color: var(--fill-color);\n",
              "      border-top-color: var(--fill-color);\n",
              "      border-right-color: var(--fill-color);\n",
              "    }\n",
              "    40% {\n",
              "      border-color: transparent;\n",
              "      border-right-color: var(--fill-color);\n",
              "      border-top-color: var(--fill-color);\n",
              "    }\n",
              "    60% {\n",
              "      border-color: transparent;\n",
              "      border-right-color: var(--fill-color);\n",
              "    }\n",
              "    80% {\n",
              "      border-color: transparent;\n",
              "      border-right-color: var(--fill-color);\n",
              "      border-bottom-color: var(--fill-color);\n",
              "    }\n",
              "    90% {\n",
              "      border-color: transparent;\n",
              "      border-bottom-color: var(--fill-color);\n",
              "    }\n",
              "  }\n",
              "</style>\n",
              "\n",
              "  <script>\n",
              "    async function quickchart(key) {\n",
              "      const quickchartButtonEl =\n",
              "        document.querySelector('#' + key + ' button');\n",
              "      quickchartButtonEl.disabled = true;  // To prevent multiple clicks.\n",
              "      quickchartButtonEl.classList.add('colab-df-spinner');\n",
              "      try {\n",
              "        const charts = await google.colab.kernel.invokeFunction(\n",
              "            'suggestCharts', [key], {});\n",
              "      } catch (error) {\n",
              "        console.error('Error during call to suggestCharts:', error);\n",
              "      }\n",
              "      quickchartButtonEl.classList.remove('colab-df-spinner');\n",
              "      quickchartButtonEl.classList.add('colab-df-quickchart-complete');\n",
              "    }\n",
              "    (() => {\n",
              "      let quickchartButtonEl =\n",
              "        document.querySelector('#df-f24927c4-a6f0-4b6c-b11e-6608cf532d8d button');\n",
              "      quickchartButtonEl.style.display =\n",
              "        google.colab.kernel.accessAllowed ? 'block' : 'none';\n",
              "    })();\n",
              "  </script>\n",
              "</div>\n",
              "    </div>\n",
              "  </div>\n"
            ],
            "application/vnd.google.colaboratory.intrinsic+json": {
              "type": "dataframe",
              "variable_name": "ErrorMetrics_pd",
              "summary": "{\n  \"name\": \"ErrorMetrics_pd\",\n  \"rows\": 2,\n  \"fields\": [\n    {\n      \"column\": \"Accuracy\",\n      \"properties\": {\n        \"dtype\": \"number\",\n        \"std\": 0.21036427224988546,\n        \"min\": 0.10090000182390213,\n        \"max\": 0.3984000086784363,\n        \"num_unique_values\": 2,\n        \"samples\": [\n          0.10090000182390213,\n          0.3984000086784363\n        ],\n        \"semantic_type\": \"\",\n        \"description\": \"\"\n      }\n    },\n    {\n      \"column\": \"Precision\",\n      \"properties\": {\n        \"dtype\": \"number\",\n        \"std\": 0.054164635727507876,\n        \"min\": 0.29096004180672663,\n        \"max\": 0.36756040425356656,\n        \"num_unique_values\": 2,\n        \"samples\": [\n          0.29096004180672663,\n          0.36756040425356656\n        ],\n        \"semantic_type\": \"\",\n        \"description\": \"\"\n      }\n    },\n    {\n      \"column\": \"Recall\",\n      \"properties\": {\n        \"dtype\": \"number\",\n        \"std\": 0.21036426740299788,\n        \"min\": 0.1009,\n        \"max\": 0.3984,\n        \"num_unique_values\": 2,\n        \"samples\": [\n          0.1009,\n          0.3984\n        ],\n        \"semantic_type\": \"\",\n        \"description\": \"\"\n      }\n    },\n    {\n      \"column\": \"F1_Score\",\n      \"properties\": {\n        \"dtype\": \"number\",\n        \"std\": 0.22799842661614153,\n        \"min\": 0.03971524584975824,\n        \"max\": 0.36215371297003246,\n        \"num_unique_values\": 2,\n        \"samples\": [\n          0.03971524584975824,\n          0.36215371297003246\n        ],\n        \"semantic_type\": \"\",\n        \"description\": \"\"\n      }\n    }\n  ]\n}"
            }
          },
          "metadata": {},
          "execution_count": 86
        }
      ]
    },
    {
      "cell_type": "code",
      "source": [
        "import matplotlib.pyplot as plt\n",
        "\n",
        "# Assuming ErrorMetrics_pd is a pandas DataFrame containing error metrics data\n",
        "ErrorMetrics_pd.plot(kind='bar')\n",
        "plt.xlabel('Metrics')\n",
        "plt.ylabel('Values')\n",
        "plt.title('Error Metrics')\n",
        "plt.xticks(rotation=0)  # Rotate x-axis labels if needed\n",
        "plt.show()\n"
      ],
      "metadata": {
        "colab": {
          "base_uri": "https://localhost:8080/",
          "height": 472
        },
        "id": "youJAlYxg6Fb",
        "outputId": "e43cf26d-dff0-469f-c32d-da11e41ce694"
      },
      "execution_count": null,
      "outputs": [
        {
          "output_type": "display_data",
          "data": {
            "text/plain": [
              "<Figure size 640x480 with 1 Axes>"
            ],
            "image/png": "[encoded data removed]"
          },
          "metadata": {}
        }
      ]
    },
    {
      "cell_type": "markdown",
      "source": [
        "# Challenges (Optional):\n",
        "\n",
        "## The above code is for one communication round. Write code for multiple communication rounds. In each communication round, clients will train the model on a new dataset. Then the server will merge all these models. Subsequently, the clients will retrain the merged model in the next communication round.\n",
        "\n"
      ],
      "metadata": {
        "id": "PQVf56VHHNQe"
      }
    },
    {
      "cell_type": "code",
      "source": [],
      "metadata": {
        "id": "cl9WYBFsgbZQ"
      },
      "execution_count": null,
      "outputs": []
    }
  ]
}