{
  "cells": [
    {
      "cell_type": "code",
      "execution_count": null,
      "metadata": {
        "id": "CzlOdaugnb_U"
      },
      "outputs": [],
      "source": [
        "import tensorflow as tf"
      ]
    },
    {
      "cell_type": "code",
      "execution_count": null,
      "metadata": {
        "id": "o5WFh4uQnb_W",
        "colab": {
          "base_uri": "https://localhost:8080/"
        },
        "outputId": "8b5cb85e-2f5b-4b25-fb11-408a1e0b588e"
      },
      "outputs": [
        {
          "output_type": "stream",
          "name": "stdout",
          "text": [
            "Downloading data from https://storage.googleapis.com/tensorflow/tf-keras-datasets/mnist.npz\n",
            "11490434/11490434 [==============================] - 2s 0us/step\n"
          ]
        }
      ],
      "source": [
        "from tensorflow import keras\n",
        "from keras.layers import Input, Dense\n",
        "from keras.models import Model\n",
        "from keras.datasets import mnist\n",
        "import numpy as np\n",
        "(x_train, _), (x_test, _) = mnist.load_data()"
      ]
    },
    {
      "cell_type": "code",
      "execution_count": null,
      "metadata": {
        "id": "tSQUNzNWnb_X",
        "colab": {
          "base_uri": "https://localhost:8080/",
          "height": 50
        },
        "outputId": "445fdf00-d811-458c-a4e7-5666cb521cc9"
      },
      "outputs": [
        {
          "output_type": "display_data",
          "data": {
            "text/plain": [
              "<Figure size 200x200 with 10 Axes>"
            ],
            "image/png": "[encoded data removed]"
          },
          "metadata": {}
        }
      ],
      "source": [
        "import matplotlib.pyplot as plt\n",
        "%matplotlib inline\n",
        "\n",
        "n = 10  # how many records we will display\n",
        "plt.figure(figsize=(2, 2))\n",
        "for i in range(n):\n",
        "    # display original\n",
        "    ax = plt.subplot(2, n, i + 1)\n",
        "    plt.imshow(x_test[i].reshape(28, 28))\n",
        "    plt.gray()\n",
        "    ax.get_xaxis().set_visible(False)\n",
        "    ax.get_yaxis().set_visible(False)\n",
        "\n",
        "plt.show()"
      ]
    },
    {
      "cell_type": "markdown",
      "metadata": {
        "id": "opSUZNsCnb_X"
      },
      "source": [
        "![image.png](attachment:image.png)"
      ]
    },
    {
      "cell_type": "code",
      "execution_count": null,
      "metadata": {
        "id": "b893a54bnb_Y"
      },
      "outputs": [],
      "source": [
        "from tensorflow.keras.models import Sequential, Model\n",
        "from tensorflow.keras.layers import Dense, Conv2D, MaxPool2D, Flatten, UpSampling2D, Reshape"
      ]
    },
    {
      "cell_type": "code",
      "execution_count": null,
      "metadata": {
        "id": "invEZgj8nb_Z"
      },
      "outputs": [],
      "source": [
        "encode_model = Sequential()\n",
        "\n",
        "############\n",
        "# Encoding #\n",
        "############\n",
        "\n",
        "## FIRST SET OF LAYERS\n",
        "# CONVOLUTIONAL LAYER\n",
        "encode_model.add(Conv2D(filters=16, kernel_size=(3,3), input_shape=(28, 28, 1), activation='relu', padding='same'))\n",
        "# POOLING LAYER\n",
        "encode_model.add(MaxPool2D(pool_size=(2, 2),  padding='same'))\n",
        "\n",
        "## SECOND SET OF LAYERS\n",
        "# CONVOLUTIONAL LAYER\n",
        "encode_model.add(Conv2D(filters=8, kernel_size=(3,3), activation = 'relu', padding='same'))\n",
        "# POOLING LAYER\n",
        "encode_model.add(MaxPool2D(pool_size=(2, 2), padding='same'))\n",
        "\n",
        "## THIRD SET OF LAYERS\n",
        "# CONVOLUTIONAL LAYER\n",
        "#encode_model.add(Conv2D(filters=8, kernel_size=(3,3), activation='relu', padding='same'))\n",
        "# POOLING LAYER\n",
        "#encode_model.add(MaxPool2D(pool_size=(2, 2), padding='valid'))\n",
        "encode_model.add(Flatten(input_shape=[7,7,8]))\n",
        "encode_model.add(Dense(7*7*8, activation=\"relu\"))\n",
        "encode_model.add(Dense(30, activation=\"relu\"))"
      ]
    },
    {
      "cell_type": "code",
      "execution_count": null,
      "metadata": {
        "id": "Fchfz3Ffnb_Z"
      },
      "outputs": [],
      "source": [
        "############\n",
        "# Decoding #\n",
        "############\n",
        "decode_model=Sequential()\n",
        "\n",
        "# DeConv1\n",
        "#decode_model.add(Conv2D(filters=8, kernel_size=(3,3), activation='relu', padding='same'))\n",
        "# Upsampling LAYER\n",
        "#decode_model.add(UpSampling2D((2, 2)))\n",
        "\n",
        "decode_model.add(Dense(7*7*8,activation=\"relu\"))\n",
        "decode_model.add(Reshape([7,7,8]))\n",
        "\n",
        "# DeConv2\n",
        "decode_model.add(Conv2D(filters=8, kernel_size=(3,3), activation='relu', padding='same'))\n",
        "# Upsampling LAYER\n",
        "decode_model.add(UpSampling2D((2, 2)))\n",
        "\n",
        "# Deconv3\n",
        "decode_model.add(Conv2D(filters=16, kernel_size=(3,3), activation='relu', padding='same'))\n",
        "# POOLING LAYER\n",
        "decode_model.add(UpSampling2D((2, 2)))\n",
        "\n",
        "decode_model.add(Conv2D(1, kernel_size=(3,3), activation='sigmoid', padding='same'))\n"
      ]
    },
    {
      "cell_type": "code",
      "execution_count": null,
      "metadata": {
        "id": "Mw9Mcq5dnb_Z"
      },
      "outputs": [],
      "source": [
        "autoencoder = Sequential([encode_model, decode_model])"
      ]
    },
    {
      "cell_type": "code",
      "execution_count": null,
      "metadata": {
        "id": "IvdkGvSNnb_a"
      },
      "outputs": [],
      "source": [
        "autoencoder.compile(optimizer='adam', loss='binary')"
      ]
    },
    {
      "cell_type": "code",
      "execution_count": null,
      "metadata": {
        "id": "WiUMMYDfnb_a",
        "colab": {
          "base_uri": "https://localhost:8080/"
        },
        "outputId": "8f65c408-4556-45b4-82c2-ebe9223cd45b"
      },
      "outputs": [
        {
          "output_type": "stream",
          "name": "stdout",
          "text": [
            "Model: \"sequential_2\"\n",
            "_________________________________________________________________\n",
            " Layer (type)                Output Shape              Param #   \n",
            "=================================================================\n",
            " sequential (Sequential)     (None, 30)                167166    \n",
            "                                                                 \n",
            " sequential_1 (Sequential)   (None, 28, 28, 1)         14049     \n",
            "                                                                 \n",
            "=================================================================\n",
            "Total params: 181215 (707.87 KB)\n",
            "Trainable params: 181215 (707.87 KB)\n",
            "Non-trainable params: 0 (0.00 Byte)\n",
            "_________________________________________________________________\n"
          ]
        }
      ],
      "source": [
        "autoencoder.summary()"
      ]
    },
    {
      "cell_type": "code",
      "execution_count": null,
      "metadata": {
        "id": "FieERwXBnb_b",
        "colab": {
          "base_uri": "https://localhost:8080/"
        },
        "outputId": "9cd72475-7eb4-40fc-ae40-7d8858f4a43b"
      },
      "outputs": [
        {
          "output_type": "stream",
          "name": "stdout",
          "text": [
            "Model: \"sequential\"\n",
            "_________________________________________________________________\n",
            " Layer (type)                Output Shape              Param #   \n",
            "=================================================================\n",
            " conv2d (Conv2D)             (None, 28, 28, 16)        160       \n",
            "                                                                 \n",
            " max_pooling2d (MaxPooling2  (None, 14, 14, 16)        0         \n",
            " D)                                                              \n",
            "                                                                 \n",
            " conv2d_1 (Conv2D)           (None, 14, 14, 8)         1160      \n",
            "                                                                 \n",
            " max_pooling2d_1 (MaxPoolin  (None, 7, 7, 8)           0         \n",
            " g2D)                                                            \n",
            "                                                                 \n",
            " flatten (Flatten)           (None, 392)               0         \n",
            "                                                                 \n",
            " dense (Dense)               (None, 392)               154056    \n",
            "                                                                 \n",
            " dense_1 (Dense)             (None, 30)                11790     \n",
            "                                                                 \n",
            "=================================================================\n",
            "Total params: 167166 (652.99 KB)\n",
            "Trainable params: 167166 (652.99 KB)\n",
            "Non-trainable params: 0 (0.00 Byte)\n",
            "_________________________________________________________________\n"
          ]
        }
      ],
      "source": [
        "encode_model.summary()"
      ]
    },
    {
      "cell_type": "code",
      "execution_count": null,
      "metadata": {
        "id": "-uToDopqnb_b",
        "colab": {
          "base_uri": "https://localhost:8080/"
        },
        "outputId": "c81fa7b7-4f46-4273-a5eb-c3806076bb30"
      },
      "outputs": [
        {
          "output_type": "stream",
          "name": "stdout",
          "text": [
            "Model: \"sequential_1\"\n",
            "_________________________________________________________________\n",
            " Layer (type)                Output Shape              Param #   \n",
            "=================================================================\n",
            " dense_2 (Dense)             (None, 392)               12152     \n",
            "                                                                 \n",
            " reshape (Reshape)           (None, 7, 7, 8)           0         \n",
            "                                                                 \n",
            " conv2d_2 (Conv2D)           (None, 7, 7, 8)           584       \n",
            "                                                                 \n",
            " up_sampling2d (UpSampling2  (None, 14, 14, 8)         0         \n",
            " D)                                                              \n",
            "                                                                 \n",
            " conv2d_3 (Conv2D)           (None, 14, 14, 16)        1168      \n",
            "                                                                 \n",
            " up_sampling2d_1 (UpSamplin  (None, 28, 28, 16)        0         \n",
            " g2D)                                                            \n",
            "                                                                 \n",
            " conv2d_4 (Conv2D)           (None, 28, 28, 1)         145       \n",
            "                                                                 \n",
            "=================================================================\n",
            "Total params: 14049 (54.88 KB)\n",
            "Trainable params: 14049 (54.88 KB)\n",
            "Non-trainable params: 0 (0.00 Byte)\n",
            "_________________________________________________________________\n"
          ]
        }
      ],
      "source": [
        "decode_model.summary()"
      ]
    },
    {
      "cell_type": "code",
      "execution_count": null,
      "metadata": {
        "colab": {
          "base_uri": "https://localhost:8080/"
        },
        "id": "YLekt0eMnb_b",
        "outputId": "28440744-2ac6-43d8-ccb1-b841c826e5e0"
      },
      "outputs": [
        {
          "output_type": "execute_result",
          "data": {
            "text/plain": [
              "(60000, 28, 28, 1)"
            ]
          },
          "metadata": {},
          "execution_count": 12
        }
      ],
      "source": [
        "x_train = x_train.reshape(60000,28,28,1)\n",
        "x_train = x_train/255\n",
        "x_train.shape"
      ]
    },
    {
      "cell_type": "code",
      "execution_count": null,
      "metadata": {
        "id": "PfSZaCCEnb_b",
        "colab": {
          "base_uri": "https://localhost:8080/"
        },
        "outputId": "847708f6-bb44-4744-926e-887b3fb0ac68"
      },
      "outputs": [
        {
          "output_type": "execute_result",
          "data": {
            "text/plain": [
              "(10000, 28, 28, 1)"
            ]
          },
          "metadata": {},
          "execution_count": 13
        }
      ],
      "source": [
        "x_test = x_test.reshape(10000, 28, 28, 1)\n",
        "x_test = x_test/255\n",
        "x_test.shape"
      ]
    },
    {
      "cell_type": "code",
      "execution_count": null,
      "metadata": {
        "id": "0kDxggwUnb_b",
        "colab": {
          "base_uri": "https://localhost:8080/"
        },
        "outputId": "83c5b8d0-c7f2-4af5-b79c-348c288997e4"
      },
      "outputs": [
        {
          "output_type": "stream",
          "name": "stdout",
          "text": [
            "Epoch 1/2\n",
            "1000/1000 [==============================] - 11s 6ms/step - loss: 0.1679 - accuracy: 0.8029 - val_loss: 0.1197 - val_accuracy: 0.8073\n",
            "Epoch 2/2\n",
            "1000/1000 [==============================] - 5s 5ms/step - loss: 0.1143 - accuracy: 0.8094 - val_loss: 0.1082 - val_accuracy: 0.8091\n"
          ]
        },
        {
          "output_type": "execute_result",
          "data": {
            "text/plain": [
              "<keras.src.callbacks.History at 0x7b790c197790>"
            ]
          },
          "metadata": {},
          "execution_count": 14
        }
      ],
      "source": [
        "# Train the model\n",
        "autoencoder.compile(optimizer='adam',\n",
        "              loss='binary_crossentropy',\n",
        "              metrics=['accuracy'])\n",
        "autoencoder.fit(x_train, x_train,  epochs=2, batch_size=60, shuffle=True, verbose=1, validation_data=[x_test, x_test])"
      ]
    },
    {
      "cell_type": "code",
      "execution_count": null,
      "metadata": {
        "id": "yBM1A98snb_b",
        "colab": {
          "base_uri": "https://localhost:8080/",
          "height": 412
        },
        "outputId": "07c678f5-a611-4702-9824-4675f7050845"
      },
      "outputs": [
        {
          "output_type": "stream",
          "name": "stdout",
          "text": [
            "313/313 [==============================] - 1s 2ms/step\n"
          ]
        },
        {
          "output_type": "display_data",
          "data": {
            "text/plain": [
              "<Figure size 3000x1000 with 20 Axes>"
            ],
            "image/png": "[encoded data removed]"
          },
          "metadata": {}
        }
      ],
      "source": [
        "decoded_imgs = autoencoder.predict(x_test)\n",
        "\n",
        "n = 10\n",
        "\n",
        "plt.figure(figsize=(30, 10))\n",
        "for i in range(n):\n",
        "    # display original\n",
        "    ax = plt.subplot(3, n, i + 1)\n",
        "    plt.imshow(x_test[i].reshape(28,28))\n",
        "    plt.gray()\n",
        "    ax.get_xaxis().set_visible(False)\n",
        "    ax.get_yaxis().set_visible(False)\n",
        "\n",
        "    # display reconstruction\n",
        "    ax = plt.subplot(3, n, i+1+n)\n",
        "    #plt.imshow(decoded_imgs[i].reshape(28, 28))\n",
        "    plt.imshow(decoded_imgs[i].reshape(28, 28), cmap='magma')\n",
        "    plt.title(\"Reconstructed\")\n",
        "    ax.get_xaxis().set_visible(False)\n",
        "    ax.get_yaxis().set_visible(False)\n",
        "plt.tight_layout()\n",
        "\n",
        "# Save or show the plot\n",
        "plt.savefig(\"decoded_images_plot.png\")  # Save the plot as an image\n",
        "plt.show()"
      ]
    },
    {
      "cell_type": "code",
      "execution_count": null,
      "metadata": {
        "id": "Zyj4XHdoJNm-"
      },
      "outputs": [],
      "source": []
    }
  ],
  "metadata": {
    "colab": {
      "provenance": [],
      "machine_shape": "hm",
      "gpuType": "T4"
    },
    "kernelspec": {
      "display_name": "Python 3",
      "name": "python3"
    },
    "language_info": {
      "codemirror_mode": {
        "name": "ipython",
        "version": 3
      },
      "file_extension": ".py",
      "mimetype": "text/x-python",
      "name": "python",
      "nbconvert_exporter": "python",
      "pygments_lexer": "ipython3",
      "version": "3.10.9"
    },
    "accelerator": "GPU"
  },
  "nbformat": 4,
  "nbformat_minor": 0
}